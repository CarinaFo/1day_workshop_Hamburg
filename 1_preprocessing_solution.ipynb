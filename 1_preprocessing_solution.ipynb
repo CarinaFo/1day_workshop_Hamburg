{
 "cells": [
  {
   "cell_type": "markdown",
   "id": "4f059867-30c4-4bd3-a34e-5dcc09991573",
   "metadata": {
    "id": "4f059867-30c4-4bd3-a34e-5dcc09991573"
   },
   "source": [
    "# EEG analysis in MNE Python\n",
    "\n",
    "\n",
    "### General quality checks of EEG data and preprocssing\n",
    "### Aim: Clean EEG data"
   ]
  },
  {
   "cell_type": "markdown",
   "id": "d206a9b5",
   "metadata": {
    "id": "d206a9b5"
   },
   "source": [
    "author: Carina Forster\n",
    "\n",
    "contact: forster@cbs.mpg.de\n",
    "\n",
    "last updated: 14.10.2024"
   ]
  },
  {
   "cell_type": "markdown",
   "id": "be2105b3",
   "metadata": {
    "id": "be2105b3"
   },
   "source": [
    "Historically, MNE was a software for computing cortically constrained Minimum Norm Estimates from MEG and EEG data. The historical core functions of MNE were written by Matti Hämäläinen in Boston and originate in part from the Elekta software that is shipped with its MEG systems. The FIFF is Elektas Functional Imaging File Format that goes along with .fif file extensions and is natively used by its MEG systems. For these reasons the MNE software is internally relying on the FIFF files. \n",
    "\n",
    "Today the situation is a bit different though. MNE is nowadays developed mostly in Python by an international team of researchers from diverse laboratories and has widened its scope.\n",
    "\n",
    "MNE supports advanced sensor space analyses for EEG, temporal ICA, many different file formats and many other inverse solvers, for example beamformers. \n",
    "\n",
    "Some of our contributors even use it for intracranial data. If you want, MNE can be thought of as MEG’n’EEG."
   ]
  },
  {
   "cell_type": "markdown",
   "id": "8cb13294-3190-4367-8a61-452d0360522c",
   "metadata": {
    "id": "8cb13294-3190-4367-8a61-452d0360522c"
   },
   "source": [
    "If you haven't installed MNE yet, please follow the [instructions](https://mne.tools/stable/install/index.html) on the homepage (install with conda is recommended)\n",
    "Update: Due to license issues with ananconda I recommend using [miniforge](https://github.com/conda-forge/miniforge) to install conda (and mamba)\n",
    "\n",
    "Here some legal stuff on [anaconda licensing](https://www.anaconda.com/blog/update-on-anacondas-terms-of-service-for-academia-and-research)"
   ]
  },
  {
   "cell_type": "markdown",
   "id": "21601ad5-89c9-490f-a767-a0479fbd92ad",
   "metadata": {
    "id": "21601ad5-89c9-490f-a767-a0479fbd92ad"
   },
   "source": [
    "we start by importing important packages"
   ]
  },
  {
   "cell_type": "code",
   "execution_count": 1,
   "id": "bd96deb0-9cc1-4757-8432-82aa7bf44ee7",
   "metadata": {
    "colab": {
     "base_uri": "https://localhost:8080/"
    },
    "executionInfo": {
     "elapsed": 8395,
     "status": "ok",
     "timestamp": 1652363096084,
     "user": {
      "displayName": "Veronika",
      "userId": "16787667330972280510"
     },
     "user_tz": -120
    },
    "id": "bd96deb0-9cc1-4757-8432-82aa7bf44ee7",
    "outputId": "ebeca72d-30e3-4afd-bbdf-a86a4b3f98ed"
   },
   "outputs": [],
   "source": [
    "import mne\n",
    "import numpy as np\n",
    "import os\n",
    "from pathlib import Path"
   ]
  },
  {
   "cell_type": "code",
   "execution_count": 23,
   "id": "c481eff0",
   "metadata": {},
   "outputs": [
    {
     "data": {
      "text/plain": [
       "'1.8.0'"
      ]
     },
     "execution_count": 23,
     "metadata": {},
     "output_type": "execute_result"
    }
   ],
   "source": [
    "# make sure you use the stable version of mne (currently 1.7.1 but check for updates)\n",
    "mne.__version__"
   ]
  },
  {
   "cell_type": "code",
   "execution_count": 25,
   "id": "3728d3ab",
   "metadata": {
    "executionInfo": {
     "elapsed": 327,
     "status": "ok",
     "timestamp": 1652363128394,
     "user": {
      "displayName": "Veronika",
      "userId": "16787667330972280510"
     },
     "user_tz": -120
    },
    "id": "3728d3ab"
   },
   "outputs": [],
   "source": [
    "# this command makes sure plots are shown in the notebook (they don't open a new window)\n",
    "#%matplotlib inline\n",
    "# this command enables matplotlib to use the qt backend that allows you to view data interactively (click and scroll through data)\n",
    "%matplotlib qt"
   ]
  },
  {
   "cell_type": "code",
   "execution_count": 26,
   "id": "df951d39",
   "metadata": {},
   "outputs": [],
   "source": [
    "# get rid of the sometimes excessive logging output\n",
    "mne.set_log_level('error')"
   ]
  },
  {
   "cell_type": "markdown",
   "id": "c50fb83e",
   "metadata": {
    "id": "c50fb83e"
   },
   "source": [
    "## Loading data\n",
    "\n",
    "### make sure to change the path to where you stored the data"
   ]
  },
  {
   "cell_type": "code",
   "execution_count": 32,
   "id": "a8af7434-f6bd-4d7e-94fc-5d61cbce00b0",
   "metadata": {
    "colab": {
     "base_uri": "https://localhost:8080/"
    },
    "executionInfo": {
     "elapsed": 82571,
     "status": "ok",
     "timestamp": 1652363215106,
     "user": {
      "displayName": "Veronika",
      "userId": "16787667330972280510"
     },
     "user_tz": -120
    },
    "id": "a8af7434-f6bd-4d7e-94fc-5d61cbce00b0",
    "outputId": "3ce9cf9f-f0b2-4526-cc41-3d3ebe1aff81"
   },
   "outputs": [],
   "source": [
    "# let's load some sample data from MNE\n",
    "sample_data_folder = mne.datasets.sample.data_path()\n",
    "sample_data_raw_file = os.path.join(sample_data_folder, 'MEG', 'sample',\n",
    "                                    'sample_audvis_raw.fif')\n",
    "raw = mne.io.read_raw_fif(sample_data_raw_file)"
   ]
  },
  {
   "cell_type": "code",
   "execution_count": 33,
   "id": "85aeb03f",
   "metadata": {},
   "outputs": [
    {
     "ename": "AttributeError",
     "evalue": "'Raw' object has no attribute '_data'",
     "output_type": "error",
     "traceback": [
      "\u001b[1;31m---------------------------------------------------------------------------\u001b[0m",
      "\u001b[1;31mAttributeError\u001b[0m                            Traceback (most recent call last)",
      "Cell \u001b[1;32mIn[33], line 2\u001b[0m\n\u001b[0;32m      1\u001b[0m \u001b[38;5;66;03m# the data is not loaded into memory yet, only the file header is read\u001b[39;00m\n\u001b[1;32m----> 2\u001b[0m \u001b[43mraw\u001b[49m\u001b[38;5;241;43m.\u001b[39;49m\u001b[43m_data\u001b[49m\n",
      "\u001b[1;31mAttributeError\u001b[0m: 'Raw' object has no attribute '_data'"
     ]
    }
   ],
   "source": [
    "# the data is not loaded into memory yet, only the file header is read\n",
    "raw._data"
   ]
  },
  {
   "cell_type": "markdown",
   "id": "1869cb9f",
   "metadata": {},
   "source": [
    "<div class=\"alert alert-block alert-warning\">\n",
    "<b>Discussion:</b> Data is not loaded. Why would that be smart?\n",
    "\n",
    "EEG data is very memory-heavy\n",
    "\n",
    "</div>"
   ]
  },
  {
   "cell_type": "code",
   "execution_count": 34,
   "id": "cbf7139e",
   "metadata": {},
   "outputs": [],
   "source": [
    "# let's load the data into memory\n",
    "raw.load_data();"
   ]
  },
  {
   "cell_type": "code",
   "execution_count": 35,
   "id": "ab87db01",
   "metadata": {},
   "outputs": [
    {
     "data": {
      "text/plain": [
       "array([[ 9.64355481e-12,  0.00000000e+00,  0.00000000e+00, ...,\n",
       "        -1.92871096e-12,  2.89306644e-12,  3.85742192e-12],\n",
       "       [-4.82177740e-12, -2.89306644e-12, -9.64355481e-13, ...,\n",
       "        -9.64355481e-13, -9.64355481e-13, -1.92871096e-12],\n",
       "       [ 1.01074222e-13,  6.31713890e-14,  7.58056668e-14, ...,\n",
       "        -4.80102556e-13, -6.06445334e-13, -5.93811056e-13],\n",
       "       ...,\n",
       "       [ 3.88542173e-05,  4.07510373e-05,  4.09957883e-05, ...,\n",
       "         6.72453304e-05,  6.68782039e-05,  6.91421504e-05],\n",
       "       [ 6.58391126e-05,  6.80025648e-05,  6.81779798e-05, ...,\n",
       "         8.51932390e-05,  8.58948991e-05,  8.89938982e-05],\n",
       "       [ 2.85661012e-04,  2.83699953e-04,  2.80431520e-04, ...,\n",
       "         2.64089357e-04,  2.62781984e-04,  2.57552492e-04]])"
      ]
     },
     "execution_count": 35,
     "metadata": {},
     "output_type": "execute_result"
    }
   ],
   "source": [
    "# now the data is loaded and we can access it\n",
    "raw._data"
   ]
  },
  {
   "cell_type": "code",
   "execution_count": 36,
   "id": "17cb53ef",
   "metadata": {
    "id": "17cb53ef",
    "outputId": "f699706d-9709-4665-c67c-4e483cf39fac"
   },
   "outputs": [
    {
     "data": {
      "text/html": [
       "<script type=\"text/javascript\">\n",
       "    const toggleVisibility = (className) => {\n",
       "\n",
       "  const elements = document.querySelectorAll(`.${className}`)\n",
       "\n",
       "  elements.forEach(element => {\n",
       "    if (element.classList.contains('repr-section-header')) {\n",
       "      // Don't collapse the section header row.\n",
       "       return\n",
       "    }\n",
       "    if (element.classList.contains('repr-element-collapsed')) {\n",
       "      // Force a reflow to ensure the display change takes effect before removing the class\n",
       "      element.classList.remove('repr-element-collapsed')\n",
       "      element.offsetHeight // This forces the browser to recalculate layout\n",
       "      element.classList.remove('repr-element-faded')\n",
       "    } else {\n",
       "      // Start transition to hide the element\n",
       "      element.classList.add('repr-element-faded')\n",
       "      element.addEventListener('transitionend', handler = (e) => {\n",
       "        if (e.propertyName === 'opacity' && getComputedStyle(element).opacity === '0.2') {\n",
       "          element.classList.add('repr-element-collapsed')\n",
       "          element.removeEventListener('transitionend', handler)\n",
       "        }\n",
       "      });\n",
       "    }\n",
       "  });\n",
       "\n",
       "  // Take care of button (adjust caret)\n",
       "  const button = document.querySelectorAll(`.repr-section-header.${className} > th.repr-section-toggle-col > button`)[0]\n",
       "  button.classList.toggle('collapsed')\n",
       "\n",
       "  // Take care of the tooltip of the section header row\n",
       "  const sectionHeaderRow = document.querySelectorAll(`tr.repr-section-header.${className}`)[0]\n",
       "  sectionHeaderRow.classList.toggle('collapsed')\n",
       "  sectionHeaderRow.title = sectionHeaderRow.title === 'Hide section' ? 'Show section' : 'Hide section'\n",
       "}\n",
       "</script>\n",
       "\n",
       "<style type=\"text/css\">\n",
       "    table.repr.table.table-hover.table-striped.table-sm.table-responsive.small {\n",
       "  /* Don't make rows wider than they need to be. */\n",
       "  display: inline;\n",
       "}\n",
       "\n",
       "table > tbody > tr.repr-element > td {\n",
       "  /* Apply a tighter layout to the table cells. */\n",
       "  padding-top: 0.1rem;\n",
       "  padding-bottom: 0.1rem;\n",
       "  padding-right: 1rem;\n",
       "}\n",
       "\n",
       "table > tbody > tr > td.repr-section-toggle-col {\n",
       "  /* Remove background and border of the first cell in every row\n",
       "     (this row is only used for the collapse / uncollapse caret)\n",
       "\n",
       "     TODO: Need to find a good solution for VS Code that works in both\n",
       "           light and dark mode. */\n",
       "  border-color: transparent;\n",
       "  --bs-table-accent-bg: transparent;\n",
       "}\n",
       "\n",
       "tr.repr-section-header {\n",
       "  /* Remove stripes from section header rows */\n",
       "  background-color: transparent;\n",
       "  border-color: transparent;\n",
       "  --bs-table-striped-bg: transparent;\n",
       "  cursor: pointer;\n",
       "}\n",
       "\n",
       "tr.repr-section-header > th {\n",
       "  text-align: left !important;\n",
       "  vertical-align: middle;\n",
       "}\n",
       "\n",
       ".repr-element, tr.repr-element > td {\n",
       "  opacity: 1;\n",
       "  text-align: left !important;\n",
       "}\n",
       "\n",
       ".repr-element-faded {\n",
       "  transition: 0.3s ease;\n",
       "  opacity: 0.2;\n",
       "}\n",
       "\n",
       ".repr-element-collapsed {\n",
       "  display: none;\n",
       "}\n",
       "\n",
       "/* Collapse / uncollapse button and the caret it contains. */\n",
       ".repr-section-toggle-col button {\n",
       "  cursor: pointer;\n",
       "  width: 1rem;\n",
       "  background-color: transparent;\n",
       "  border-color: transparent;\n",
       "}\n",
       "\n",
       "span.collapse-uncollapse-caret {\n",
       "  width: 1rem;\n",
       "  height: 1rem;\n",
       "  display: block;\n",
       "  background-repeat: no-repeat;\n",
       "  background-position: left;\n",
       "  background-size: contain;\n",
       "}\n",
       "\n",
       "/* The collapse / uncollapse carets were copied from the free Font Awesome collection and adjusted. */\n",
       "\n",
       "/* Default to black carets for light mode */\n",
       ".repr-section-toggle-col > button.collapsed > span.collapse-uncollapse-caret {\n",
       "  background-image: url('data:image/svg+xml;charset=utf8,<svg xmlns=\"http://www.w3.org/2000/svg\" viewBox=\"0 0 256 512\"><!--!Font Awesome Free 6.5.2 by @fontawesome - https://fontawesome.com License - https://fontawesome.com/license/free Copyright 2024 Fonticons, Inc.--><path fill=\"black\" d=\"M246.6 278.6c12.5-12.5 12.5-32.8 0-45.3l-128-128c-9.2-9.2-22.9-11.9-34.9-6.9s-19.8 16.6-19.8 29.6l0 256c0 12.9 7.8 24.6 19.8 29.6s25.7 2.2 34.9-6.9l128-128z\"/></svg>');\n",
       "}\n",
       "\n",
       ".repr-section-toggle-col\n",
       "  > button:not(.collapsed)\n",
       "  > span.collapse-uncollapse-caret {\n",
       "  background-image: url('data:image/svg+xml;charset=utf8,<svg xmlns=\"http://www.w3.org/2000/svg\" viewBox=\"0 0 320 512\"><!--!Font Awesome Free 6.5.2 by @fontawesome - https://fontawesome.com License - https://fontawesome.com/license/free Copyright 2024 Fonticons, Inc.--><path fill=\"black\" d=\"M137.4 374.6c12.5 12.5 32.8 12.5 45.3 0l128-128c9.2-9.2 11.9-22.9 6.9-34.9s-16.6-19.8-29.6-19.8L32 192c-12.9 0-24.6 7.8-29.6 19.8s-2.2 25.7 6.9 34.9l128 128z\"/></svg>');\n",
       "}\n",
       "\n",
       "/* Use white carets for dark mode */\n",
       "@media (prefers-color-scheme: dark) {\n",
       "  .repr-section-toggle-col > button.collapsed > span.collapse-uncollapse-caret {\n",
       "    background-image: url('data:image/svg+xml;charset=utf8,<svg xmlns=\"http://www.w3.org/2000/svg\" viewBox=\"0 0 256 512\"><!--!Font Awesome Free 6.5.2 by @fontawesome - https://fontawesome.com License - https://fontawesome.com/license/free Copyright 2024 Fonticons, Inc.--><path fill=\"white\" d=\"M246.6 278.6c12.5-12.5 12.5-32.8 0-45.3l-128-128c-9.2-9.2-22.9-11.9-34.9-6.9s-19.8 16.6-19.8 29.6l0 256c0 12.9 7.8 24.6 19.8 29.6s25.7 2.2 34.9-6.9l128-128z\"/></svg>');\n",
       "  }\n",
       "\n",
       "  .repr-section-toggle-col\n",
       "    > button:not(.collapsed)\n",
       "    > span.collapse-uncollapse-caret {\n",
       "    background-image: url('data:image/svg+xml;charset=utf8,<svg xmlns=\"http://www.w3.org/2000/svg\" viewBox=\"0 0 320 512\"><!--!Font Awesome Free 6.5.2 by @fontawesome - https://fontawesome.com License - https://fontawesome.com/license/free Copyright 2024 Fonticons, Inc.--><path fill=\"white\" d=\"M137.4 374.6c12.5 12.5 32.8 12.5 45.3 0l128-128c9.2-9.2 11.9-22.9 6.9-34.9s-16.6-19.8-29.6-19.8L32 192c-12.9 0-24.6 7.8-29.6 19.8s-2.2 25.7 6.9 34.9l128 128z\"/></svg>');\n",
       "  }\n",
       "}\n",
       "\n",
       ".channel-names-btn {\n",
       "  padding: 0;\n",
       "  border: none;\n",
       "  background: none;\n",
       "  text-decoration: underline;\n",
       "  text-decoration-style: dashed;\n",
       "  cursor: pointer;\n",
       "  color: #0d6efd;\n",
       "}\n",
       "\n",
       ".channel-names-btn:hover {\n",
       "  color: #0a58ca;\n",
       "}\n",
       "</style>\n",
       "\n",
       "\n",
       "\n",
       "<table class=\"repr table table-hover table-striped table-sm table-responsive small\">\n",
       "    \n",
       "\n",
       "\n",
       "\n",
       "\n",
       "\n",
       "\n",
       "\n",
       "<tr class=\"repr-section-header general-091635bc-9b26-4039-93c0-36d870fef6a3\"  title=\"Hide section\" \n",
       "    onclick=\"toggleVisibility('general-091635bc-9b26-4039-93c0-36d870fef6a3')\">\n",
       "    <th class=\"repr-section-toggle-col\">\n",
       "        <button>\n",
       "            \n",
       "            <span class=\"collapse-uncollapse-caret\"></span>\n",
       "        </button>\n",
       "    </th>\n",
       "    <th colspan=\"2\">\n",
       "        <strong>General</strong>\n",
       "    </th>\n",
       "</tr>\n",
       "\n",
       "<tr class=\"repr-element general-091635bc-9b26-4039-93c0-36d870fef6a3 \">\n",
       "    <td class=\"repr-section-toggle-col\"></td>\n",
       "    <td>MNE object type</td>\n",
       "    <td>Info</td>\n",
       "</tr>\n",
       "<tr class=\"repr-element general-091635bc-9b26-4039-93c0-36d870fef6a3 \">\n",
       "    <td class=\"repr-section-toggle-col\"></td>\n",
       "    <td>Measurement date</td>\n",
       "    \n",
       "    <td>2002-12-03 at 19:01:10 UTC</td>\n",
       "    \n",
       "</tr>\n",
       "<tr class=\"repr-element general-091635bc-9b26-4039-93c0-36d870fef6a3 \">\n",
       "    <td class=\"repr-section-toggle-col\"></td>\n",
       "    <td>Participant</td>\n",
       "    \n",
       "    <td>Unknown</td>\n",
       "    \n",
       "</tr>\n",
       "<tr class=\"repr-element general-091635bc-9b26-4039-93c0-36d870fef6a3 \">\n",
       "    <td class=\"repr-section-toggle-col\"></td>\n",
       "    <td>Experimenter</td>\n",
       "    \n",
       "    <td>MEG</td>\n",
       "    \n",
       "</tr>\n",
       "    \n",
       "\n",
       "\n",
       "\n",
       "\n",
       "\n",
       "\n",
       "\n",
       "<tr class=\"repr-section-header acquisition-1b97c810-d8de-4c79-9bc6-f39239ade3a2\" \n",
       "    title=\"Hide section\"  onclick=\"toggleVisibility('acquisition-1b97c810-d8de-4c79-9bc6-f39239ade3a2')\">\n",
       "    <th class=\"repr-section-toggle-col\">\n",
       "        <button>\n",
       "            \n",
       "            <span class=\"collapse-uncollapse-caret\"></span>\n",
       "        </button>\n",
       "    </th>\n",
       "    <th colspan=\"2\">\n",
       "        <strong>Acquisition</strong>\n",
       "    </th>\n",
       "</tr>\n",
       "\n",
       "\n",
       "\n",
       "\n",
       "\n",
       "\n",
       "\n",
       "\n",
       "<tr class=\"repr-element acquisition-1b97c810-d8de-4c79-9bc6-f39239ade3a2 \">\n",
       "    <td class=\"repr-section-toggle-col\"></td>\n",
       "    <td>Sampling frequency</td>\n",
       "    <td>600.61 Hz</td>\n",
       "</tr>\n",
       "\n",
       "\n",
       "\n",
       "    \n",
       "\n",
       "\n",
       "\n",
       "\n",
       "\n",
       "\n",
       "\n",
       "<tr class=\"repr-section-header channels-2ea5d28f-cc15-4b81-9404-fb5425fcfa83\"  title=\"Hide section\" \n",
       "    onclick=\"toggleVisibility('channels-2ea5d28f-cc15-4b81-9404-fb5425fcfa83')\">\n",
       "    <th class=\"repr-section-toggle-col\">\n",
       "        <button>\n",
       "            \n",
       "            <span class=\"collapse-uncollapse-caret\"></span>\n",
       "        </button>\n",
       "    </th>\n",
       "    <th colspan=\"2\">\n",
       "        <strong>Channels</strong>\n",
       "    </th>\n",
       "</tr>\n",
       "\n",
       "\n",
       "<tr class=\"repr-element channels-2ea5d28f-cc15-4b81-9404-fb5425fcfa83 \">\n",
       "    <td class=\"repr-section-toggle-col\"></td>\n",
       "    <td>Magnetometers</td>\n",
       "    <td>\n",
       "        <button class=\"channel-names-btn\" onclick=\"alert('Good Magnetometers:\\n\\nMEG&nbsp;0111, MEG&nbsp;0121, MEG&nbsp;0131, MEG&nbsp;0141, MEG&nbsp;0211, MEG&nbsp;0221, MEG&nbsp;0231, MEG&nbsp;0241, MEG&nbsp;0311, MEG&nbsp;0321, MEG&nbsp;0331, MEG&nbsp;0341, MEG&nbsp;0411, MEG&nbsp;0421, MEG&nbsp;0431, MEG&nbsp;0441, MEG&nbsp;0511, MEG&nbsp;0521, MEG&nbsp;0531, MEG&nbsp;0541, MEG&nbsp;0611, MEG&nbsp;0621, MEG&nbsp;0631, MEG&nbsp;0641, MEG&nbsp;0711, MEG&nbsp;0721, MEG&nbsp;0731, MEG&nbsp;0741, MEG&nbsp;0811, MEG&nbsp;0821, MEG&nbsp;0911, MEG&nbsp;0921, MEG&nbsp;0931, MEG&nbsp;0941, MEG&nbsp;1011, MEG&nbsp;1021, MEG&nbsp;1031, MEG&nbsp;1041, MEG&nbsp;1111, MEG&nbsp;1121, MEG&nbsp;1131, MEG&nbsp;1141, MEG&nbsp;1211, MEG&nbsp;1221, MEG&nbsp;1231, MEG&nbsp;1241, MEG&nbsp;1311, MEG&nbsp;1321, MEG&nbsp;1331, MEG&nbsp;1341, MEG&nbsp;1411, MEG&nbsp;1421, MEG&nbsp;1431, MEG&nbsp;1441, MEG&nbsp;1511, MEG&nbsp;1521, MEG&nbsp;1531, MEG&nbsp;1541, MEG&nbsp;1611, MEG&nbsp;1621, MEG&nbsp;1631, MEG&nbsp;1641, MEG&nbsp;1711, MEG&nbsp;1721, MEG&nbsp;1731, MEG&nbsp;1741, MEG&nbsp;1811, MEG&nbsp;1821, MEG&nbsp;1831, MEG&nbsp;1841, MEG&nbsp;1911, MEG&nbsp;1921, MEG&nbsp;1931, MEG&nbsp;1941, MEG&nbsp;2011, MEG&nbsp;2021, MEG&nbsp;2031, MEG&nbsp;2041, MEG&nbsp;2111, MEG&nbsp;2121, MEG&nbsp;2131, MEG&nbsp;2141, MEG&nbsp;2211, MEG&nbsp;2221, MEG&nbsp;2231, MEG&nbsp;2241, MEG&nbsp;2311, MEG&nbsp;2321, MEG&nbsp;2331, MEG&nbsp;2341, MEG&nbsp;2411, MEG&nbsp;2421, MEG&nbsp;2431, MEG&nbsp;2441, MEG&nbsp;2511, MEG&nbsp;2521, MEG&nbsp;2531, MEG&nbsp;2541, MEG&nbsp;2611, MEG&nbsp;2621, MEG&nbsp;2631, MEG&nbsp;2641')\" title=\"(Click to open in popup)&#13;&#13;MEG&nbsp;0111, MEG&nbsp;0121, MEG&nbsp;0131, MEG&nbsp;0141, MEG&nbsp;0211, MEG&nbsp;0221, MEG&nbsp;0231, MEG&nbsp;0241, MEG&nbsp;0311, MEG&nbsp;0321, MEG&nbsp;0331, MEG&nbsp;0341, MEG&nbsp;0411, MEG&nbsp;0421, MEG&nbsp;0431, MEG&nbsp;0441, MEG&nbsp;0511, MEG&nbsp;0521, MEG&nbsp;0531, MEG&nbsp;0541, MEG&nbsp;0611, MEG&nbsp;0621, MEG&nbsp;0631, MEG&nbsp;0641, MEG&nbsp;0711, MEG&nbsp;0721, MEG&nbsp;0731, MEG&nbsp;0741, MEG&nbsp;0811, MEG&nbsp;0821, MEG&nbsp;0911, MEG&nbsp;0921, MEG&nbsp;0931, MEG&nbsp;0941, MEG&nbsp;1011, MEG&nbsp;1021, MEG&nbsp;1031, MEG&nbsp;1041, MEG&nbsp;1111, MEG&nbsp;1121, MEG&nbsp;1131, MEG&nbsp;1141, MEG&nbsp;1211, MEG&nbsp;1221, MEG&nbsp;1231, MEG&nbsp;1241, MEG&nbsp;1311, MEG&nbsp;1321, MEG&nbsp;1331, MEG&nbsp;1341, MEG&nbsp;1411, MEG&nbsp;1421, MEG&nbsp;1431, MEG&nbsp;1441, MEG&nbsp;1511, MEG&nbsp;1521, MEG&nbsp;1531, MEG&nbsp;1541, MEG&nbsp;1611, MEG&nbsp;1621, MEG&nbsp;1631, MEG&nbsp;1641, MEG&nbsp;1711, MEG&nbsp;1721, MEG&nbsp;1731, MEG&nbsp;1741, MEG&nbsp;1811, MEG&nbsp;1821, MEG&nbsp;1831, MEG&nbsp;1841, MEG&nbsp;1911, MEG&nbsp;1921, MEG&nbsp;1931, MEG&nbsp;1941, MEG&nbsp;2011, MEG&nbsp;2021, MEG&nbsp;2031, MEG&nbsp;2041, MEG&nbsp;2111, MEG&nbsp;2121, MEG&nbsp;2131, MEG&nbsp;2141, MEG&nbsp;2211, MEG&nbsp;2221, MEG&nbsp;2231, MEG&nbsp;2241, MEG&nbsp;2311, MEG&nbsp;2321, MEG&nbsp;2331, MEG&nbsp;2341, MEG&nbsp;2411, MEG&nbsp;2421, MEG&nbsp;2431, MEG&nbsp;2441, MEG&nbsp;2511, MEG&nbsp;2521, MEG&nbsp;2531, MEG&nbsp;2541, MEG&nbsp;2611, MEG&nbsp;2621, MEG&nbsp;2631, MEG&nbsp;2641\">\n",
       "            102\n",
       "        </button>\n",
       "\n",
       "        \n",
       "    </td>\n",
       "</tr>\n",
       "\n",
       "\n",
       "<tr class=\"repr-element channels-2ea5d28f-cc15-4b81-9404-fb5425fcfa83 \">\n",
       "    <td class=\"repr-section-toggle-col\"></td>\n",
       "    <td>Gradiometers</td>\n",
       "    <td>\n",
       "        <button class=\"channel-names-btn\" onclick=\"alert('Good Gradiometers:\\n\\nMEG&nbsp;0113, MEG&nbsp;0112, MEG&nbsp;0122, MEG&nbsp;0123, MEG&nbsp;0132, MEG&nbsp;0133, MEG&nbsp;0143, MEG&nbsp;0142, MEG&nbsp;0213, MEG&nbsp;0212, MEG&nbsp;0222, MEG&nbsp;0223, MEG&nbsp;0232, MEG&nbsp;0233, MEG&nbsp;0243, MEG&nbsp;0242, MEG&nbsp;0313, MEG&nbsp;0312, MEG&nbsp;0322, MEG&nbsp;0323, MEG&nbsp;0333, MEG&nbsp;0332, MEG&nbsp;0343, MEG&nbsp;0342, MEG&nbsp;0413, MEG&nbsp;0412, MEG&nbsp;0422, MEG&nbsp;0423, MEG&nbsp;0432, MEG&nbsp;0433, MEG&nbsp;0443, MEG&nbsp;0442, MEG&nbsp;0513, MEG&nbsp;0512, MEG&nbsp;0523, MEG&nbsp;0522, MEG&nbsp;0532, MEG&nbsp;0533, MEG&nbsp;0542, MEG&nbsp;0543, MEG&nbsp;0613, MEG&nbsp;0612, MEG&nbsp;0622, MEG&nbsp;0623, MEG&nbsp;0633, MEG&nbsp;0632, MEG&nbsp;0642, MEG&nbsp;0643, MEG&nbsp;0713, MEG&nbsp;0712, MEG&nbsp;0723, MEG&nbsp;0722, MEG&nbsp;0733, MEG&nbsp;0732, MEG&nbsp;0743, MEG&nbsp;0742, MEG&nbsp;0813, MEG&nbsp;0812, MEG&nbsp;0822, MEG&nbsp;0823, MEG&nbsp;0913, MEG&nbsp;0912, MEG&nbsp;0923, MEG&nbsp;0922, MEG&nbsp;0932, MEG&nbsp;0933, MEG&nbsp;0942, MEG&nbsp;0943, MEG&nbsp;1013, MEG&nbsp;1012, MEG&nbsp;1023, MEG&nbsp;1022, MEG&nbsp;1032, MEG&nbsp;1033, MEG&nbsp;1043, MEG&nbsp;1042, MEG&nbsp;1112, MEG&nbsp;1113, MEG&nbsp;1123, MEG&nbsp;1122, MEG&nbsp;1133, MEG&nbsp;1132, MEG&nbsp;1142, MEG&nbsp;1143, MEG&nbsp;1213, MEG&nbsp;1212, MEG&nbsp;1223, MEG&nbsp;1222, MEG&nbsp;1232, MEG&nbsp;1233, MEG&nbsp;1243, MEG&nbsp;1242, MEG&nbsp;1312, MEG&nbsp;1313, MEG&nbsp;1323, MEG&nbsp;1322, MEG&nbsp;1333, MEG&nbsp;1332, MEG&nbsp;1342, MEG&nbsp;1343, MEG&nbsp;1412, MEG&nbsp;1413, MEG&nbsp;1423, MEG&nbsp;1422, MEG&nbsp;1433, MEG&nbsp;1432, MEG&nbsp;1442, MEG&nbsp;1443, MEG&nbsp;1512, MEG&nbsp;1513, MEG&nbsp;1522, MEG&nbsp;1523, MEG&nbsp;1533, MEG&nbsp;1532, MEG&nbsp;1543, MEG&nbsp;1542, MEG&nbsp;1613, MEG&nbsp;1612, MEG&nbsp;1622, MEG&nbsp;1623, MEG&nbsp;1632, MEG&nbsp;1633, MEG&nbsp;1643, MEG&nbsp;1642, MEG&nbsp;1713, MEG&nbsp;1712, MEG&nbsp;1722, MEG&nbsp;1723, MEG&nbsp;1732, MEG&nbsp;1733, MEG&nbsp;1743, MEG&nbsp;1742, MEG&nbsp;1813, MEG&nbsp;1812, MEG&nbsp;1822, MEG&nbsp;1823, MEG&nbsp;1832, MEG&nbsp;1833, MEG&nbsp;1843, MEG&nbsp;1842, MEG&nbsp;1912, MEG&nbsp;1913, MEG&nbsp;1923, MEG&nbsp;1922, MEG&nbsp;1932, MEG&nbsp;1933, MEG&nbsp;1943, MEG&nbsp;1942, MEG&nbsp;2013, MEG&nbsp;2012, MEG&nbsp;2023, MEG&nbsp;2022, MEG&nbsp;2032, MEG&nbsp;2033, MEG&nbsp;2042, MEG&nbsp;2043, MEG&nbsp;2113, MEG&nbsp;2112, MEG&nbsp;2122, MEG&nbsp;2123, MEG&nbsp;2133, MEG&nbsp;2132, MEG&nbsp;2143, MEG&nbsp;2142, MEG&nbsp;2212, MEG&nbsp;2213, MEG&nbsp;2223, MEG&nbsp;2222, MEG&nbsp;2233, MEG&nbsp;2232, MEG&nbsp;2242, MEG&nbsp;2243, MEG&nbsp;2312, MEG&nbsp;2313, MEG&nbsp;2323, MEG&nbsp;2322, MEG&nbsp;2332, MEG&nbsp;2333, MEG&nbsp;2343, MEG&nbsp;2342, MEG&nbsp;2412, MEG&nbsp;2413, MEG&nbsp;2423, MEG&nbsp;2422, MEG&nbsp;2433, MEG&nbsp;2432, MEG&nbsp;2442, MEG&nbsp;2512, MEG&nbsp;2513, MEG&nbsp;2522, MEG&nbsp;2523, MEG&nbsp;2533, MEG&nbsp;2532, MEG&nbsp;2543, MEG&nbsp;2542, MEG&nbsp;2612, MEG&nbsp;2613, MEG&nbsp;2623, MEG&nbsp;2622, MEG&nbsp;2633, MEG&nbsp;2632, MEG&nbsp;2642, MEG&nbsp;2643')\" title=\"(Click to open in popup)&#13;&#13;MEG&nbsp;0113, MEG&nbsp;0112, MEG&nbsp;0122, MEG&nbsp;0123, MEG&nbsp;0132, MEG&nbsp;0133, MEG&nbsp;0143, MEG&nbsp;0142, MEG&nbsp;0213, MEG&nbsp;0212, MEG&nbsp;0222, MEG&nbsp;0223, MEG&nbsp;0232, MEG&nbsp;0233, MEG&nbsp;0243, MEG&nbsp;0242, MEG&nbsp;0313, MEG&nbsp;0312, MEG&nbsp;0322, MEG&nbsp;0323, MEG&nbsp;0333, MEG&nbsp;0332, MEG&nbsp;0343, MEG&nbsp;0342, MEG&nbsp;0413, MEG&nbsp;0412, MEG&nbsp;0422, MEG&nbsp;0423, MEG&nbsp;0432, MEG&nbsp;0433, MEG&nbsp;0443, MEG&nbsp;0442, MEG&nbsp;0513, MEG&nbsp;0512, MEG&nbsp;0523, MEG&nbsp;0522, MEG&nbsp;0532, MEG&nbsp;0533, MEG&nbsp;0542, MEG&nbsp;0543, MEG&nbsp;0613, MEG&nbsp;0612, MEG&nbsp;0622, MEG&nbsp;0623, MEG&nbsp;0633, MEG&nbsp;0632, MEG&nbsp;0642, MEG&nbsp;0643, MEG&nbsp;0713, MEG&nbsp;0712, MEG&nbsp;0723, MEG&nbsp;0722, MEG&nbsp;0733, MEG&nbsp;0732, MEG&nbsp;0743, MEG&nbsp;0742, MEG&nbsp;0813, MEG&nbsp;0812, MEG&nbsp;0822, MEG&nbsp;0823, MEG&nbsp;0913, MEG&nbsp;0912, MEG&nbsp;0923, MEG&nbsp;0922, MEG&nbsp;0932, MEG&nbsp;0933, MEG&nbsp;0942, MEG&nbsp;0943, MEG&nbsp;1013, MEG&nbsp;1012, MEG&nbsp;1023, MEG&nbsp;1022, MEG&nbsp;1032, MEG&nbsp;1033, MEG&nbsp;1043, MEG&nbsp;1042, MEG&nbsp;1112, MEG&nbsp;1113, MEG&nbsp;1123, MEG&nbsp;1122, MEG&nbsp;1133, MEG&nbsp;1132, MEG&nbsp;1142, MEG&nbsp;1143, MEG&nbsp;1213, MEG&nbsp;1212, MEG&nbsp;1223, MEG&nbsp;1222, MEG&nbsp;1232, MEG&nbsp;1233, MEG&nbsp;1243, MEG&nbsp;1242, MEG&nbsp;1312, MEG&nbsp;1313, MEG&nbsp;1323, MEG&nbsp;1322, MEG&nbsp;1333, MEG&nbsp;1332, MEG&nbsp;1342, MEG&nbsp;1343, MEG&nbsp;1412, MEG&nbsp;1413, MEG&nbsp;1423, MEG&nbsp;1422, MEG&nbsp;1433, MEG&nbsp;1432, MEG&nbsp;1442, MEG&nbsp;1443, MEG&nbsp;1512, MEG&nbsp;1513, MEG&nbsp;1522, MEG&nbsp;1523, MEG&nbsp;1533, MEG&nbsp;1532, MEG&nbsp;1543, MEG&nbsp;1542, MEG&nbsp;1613, MEG&nbsp;1612, MEG&nbsp;1622, MEG&nbsp;1623, MEG&nbsp;1632, MEG&nbsp;1633, MEG&nbsp;1643, MEG&nbsp;1642, MEG&nbsp;1713, MEG&nbsp;1712, MEG&nbsp;1722, MEG&nbsp;1723, MEG&nbsp;1732, MEG&nbsp;1733, MEG&nbsp;1743, MEG&nbsp;1742, MEG&nbsp;1813, MEG&nbsp;1812, MEG&nbsp;1822, MEG&nbsp;1823, MEG&nbsp;1832, MEG&nbsp;1833, MEG&nbsp;1843, MEG&nbsp;1842, MEG&nbsp;1912, MEG&nbsp;1913, MEG&nbsp;1923, MEG&nbsp;1922, MEG&nbsp;1932, MEG&nbsp;1933, MEG&nbsp;1943, MEG&nbsp;1942, MEG&nbsp;2013, MEG&nbsp;2012, MEG&nbsp;2023, MEG&nbsp;2022, MEG&nbsp;2032, MEG&nbsp;2033, MEG&nbsp;2042, MEG&nbsp;2043, MEG&nbsp;2113, MEG&nbsp;2112, MEG&nbsp;2122, MEG&nbsp;2123, MEG&nbsp;2133, MEG&nbsp;2132, MEG&nbsp;2143, MEG&nbsp;2142, MEG&nbsp;2212, MEG&nbsp;2213, MEG&nbsp;2223, MEG&nbsp;2222, MEG&nbsp;2233, MEG&nbsp;2232, MEG&nbsp;2242, MEG&nbsp;2243, MEG&nbsp;2312, MEG&nbsp;2313, MEG&nbsp;2323, MEG&nbsp;2322, MEG&nbsp;2332, MEG&nbsp;2333, MEG&nbsp;2343, MEG&nbsp;2342, MEG&nbsp;2412, MEG&nbsp;2413, MEG&nbsp;2423, MEG&nbsp;2422, MEG&nbsp;2433, MEG&nbsp;2432, MEG&nbsp;2442, MEG&nbsp;2512, MEG&nbsp;2513, MEG&nbsp;2522, MEG&nbsp;2523, MEG&nbsp;2533, MEG&nbsp;2532, MEG&nbsp;2543, MEG&nbsp;2542, MEG&nbsp;2612, MEG&nbsp;2613, MEG&nbsp;2623, MEG&nbsp;2622, MEG&nbsp;2633, MEG&nbsp;2632, MEG&nbsp;2642, MEG&nbsp;2643\">\n",
       "            203\n",
       "        </button>\n",
       "\n",
       "        \n",
       "        \n",
       "        and <button class=\"channel-names-btn\" onclick=\"alert('Bad Gradiometers:\\n\\nMEG&nbsp;2443')\" title=\"(Click to open in popup)&#13;&#13;MEG&nbsp;2443\">\n",
       "            1 bad\n",
       "        </button>\n",
       "        \n",
       "    </td>\n",
       "</tr>\n",
       "\n",
       "\n",
       "<tr class=\"repr-element channels-2ea5d28f-cc15-4b81-9404-fb5425fcfa83 \">\n",
       "    <td class=\"repr-section-toggle-col\"></td>\n",
       "    <td>EEG</td>\n",
       "    <td>\n",
       "        <button class=\"channel-names-btn\" onclick=\"alert('Good EEG:\\n\\nEEG&nbsp;001, EEG&nbsp;002, EEG&nbsp;003, EEG&nbsp;004, EEG&nbsp;005, EEG&nbsp;006, EEG&nbsp;007, EEG&nbsp;008, EEG&nbsp;009, EEG&nbsp;010, EEG&nbsp;011, EEG&nbsp;012, EEG&nbsp;013, EEG&nbsp;014, EEG&nbsp;015, EEG&nbsp;016, EEG&nbsp;017, EEG&nbsp;018, EEG&nbsp;019, EEG&nbsp;020, EEG&nbsp;021, EEG&nbsp;022, EEG&nbsp;023, EEG&nbsp;024, EEG&nbsp;025, EEG&nbsp;026, EEG&nbsp;027, EEG&nbsp;028, EEG&nbsp;029, EEG&nbsp;030, EEG&nbsp;031, EEG&nbsp;032, EEG&nbsp;033, EEG&nbsp;034, EEG&nbsp;035, EEG&nbsp;036, EEG&nbsp;037, EEG&nbsp;038, EEG&nbsp;039, EEG&nbsp;040, EEG&nbsp;041, EEG&nbsp;042, EEG&nbsp;043, EEG&nbsp;044, EEG&nbsp;045, EEG&nbsp;046, EEG&nbsp;047, EEG&nbsp;048, EEG&nbsp;049, EEG&nbsp;050, EEG&nbsp;051, EEG&nbsp;052, EEG&nbsp;054, EEG&nbsp;055, EEG&nbsp;056, EEG&nbsp;057, EEG&nbsp;058, EEG&nbsp;059, EEG&nbsp;060')\" title=\"(Click to open in popup)&#13;&#13;EEG&nbsp;001, EEG&nbsp;002, EEG&nbsp;003, EEG&nbsp;004, EEG&nbsp;005, EEG&nbsp;006, EEG&nbsp;007, EEG&nbsp;008, EEG&nbsp;009, EEG&nbsp;010, EEG&nbsp;011, EEG&nbsp;012, EEG&nbsp;013, EEG&nbsp;014, EEG&nbsp;015, EEG&nbsp;016, EEG&nbsp;017, EEG&nbsp;018, EEG&nbsp;019, EEG&nbsp;020, EEG&nbsp;021, EEG&nbsp;022, EEG&nbsp;023, EEG&nbsp;024, EEG&nbsp;025, EEG&nbsp;026, EEG&nbsp;027, EEG&nbsp;028, EEG&nbsp;029, EEG&nbsp;030, EEG&nbsp;031, EEG&nbsp;032, EEG&nbsp;033, EEG&nbsp;034, EEG&nbsp;035, EEG&nbsp;036, EEG&nbsp;037, EEG&nbsp;038, EEG&nbsp;039, EEG&nbsp;040, EEG&nbsp;041, EEG&nbsp;042, EEG&nbsp;043, EEG&nbsp;044, EEG&nbsp;045, EEG&nbsp;046, EEG&nbsp;047, EEG&nbsp;048, EEG&nbsp;049, EEG&nbsp;050, EEG&nbsp;051, EEG&nbsp;052, EEG&nbsp;054, EEG&nbsp;055, EEG&nbsp;056, EEG&nbsp;057, EEG&nbsp;058, EEG&nbsp;059, EEG&nbsp;060\">\n",
       "            59\n",
       "        </button>\n",
       "\n",
       "        \n",
       "        \n",
       "        and <button class=\"channel-names-btn\" onclick=\"alert('Bad EEG:\\n\\nEEG&nbsp;053')\" title=\"(Click to open in popup)&#13;&#13;EEG&nbsp;053\">\n",
       "            1 bad\n",
       "        </button>\n",
       "        \n",
       "    </td>\n",
       "</tr>\n",
       "\n",
       "\n",
       "<tr class=\"repr-element channels-2ea5d28f-cc15-4b81-9404-fb5425fcfa83 \">\n",
       "    <td class=\"repr-section-toggle-col\"></td>\n",
       "    <td>EOG</td>\n",
       "    <td>\n",
       "        <button class=\"channel-names-btn\" onclick=\"alert('Good EOG:\\n\\nEOG&nbsp;061')\" title=\"(Click to open in popup)&#13;&#13;EOG&nbsp;061\">\n",
       "            1\n",
       "        </button>\n",
       "\n",
       "        \n",
       "    </td>\n",
       "</tr>\n",
       "\n",
       "\n",
       "<tr class=\"repr-element channels-2ea5d28f-cc15-4b81-9404-fb5425fcfa83 \">\n",
       "    <td class=\"repr-section-toggle-col\"></td>\n",
       "    <td>Stimulus</td>\n",
       "    <td>\n",
       "        <button class=\"channel-names-btn\" onclick=\"alert('Good Stimulus:\\n\\nSTI&nbsp;001, STI&nbsp;002, STI&nbsp;003, STI&nbsp;004, STI&nbsp;005, STI&nbsp;006, STI&nbsp;014, STI&nbsp;015, STI&nbsp;016')\" title=\"(Click to open in popup)&#13;&#13;STI&nbsp;001, STI&nbsp;002, STI&nbsp;003, STI&nbsp;004, STI&nbsp;005, STI&nbsp;006, STI&nbsp;014, STI&nbsp;015, STI&nbsp;016\">\n",
       "            9\n",
       "        </button>\n",
       "\n",
       "        \n",
       "    </td>\n",
       "</tr>\n",
       "\n",
       "\n",
       "<tr class=\"repr-element channels-2ea5d28f-cc15-4b81-9404-fb5425fcfa83 \">\n",
       "    <td class=\"repr-section-toggle-col\"></td>\n",
       "    <td>Head & sensor digitization</td>\n",
       "    \n",
       "    <td>146 points</td>\n",
       "    \n",
       "</tr>\n",
       "    \n",
       "\n",
       "\n",
       "\n",
       "\n",
       "\n",
       "\n",
       "\n",
       "<tr class=\"repr-section-header filters-58e443de-4de6-4110-bc15-87f245f84536\"  title=\"Hide section\" \n",
       "    onclick=\"toggleVisibility('filters-58e443de-4de6-4110-bc15-87f245f84536')\">\n",
       "    <th class=\"repr-section-toggle-col\">\n",
       "        <button>\n",
       "            \n",
       "            <span class=\"collapse-uncollapse-caret\"></span>\n",
       "        </button>\n",
       "    </th>\n",
       "    <th colspan=\"2\">\n",
       "        <strong>Filters</strong>\n",
       "    </th>\n",
       "</tr>\n",
       "\n",
       "<tr class=\"repr-element filters-58e443de-4de6-4110-bc15-87f245f84536 \">\n",
       "    <td class=\"repr-section-toggle-col\"></td>\n",
       "    <td>Highpass</td>\n",
       "    <td>0.10 Hz</td>\n",
       "</tr>\n",
       "\n",
       "\n",
       "<tr class=\"repr-element filters-58e443de-4de6-4110-bc15-87f245f84536 \">\n",
       "    <td class=\"repr-section-toggle-col\"></td>\n",
       "    <td>Lowpass</td>\n",
       "    <td>172.18 Hz</td>\n",
       "</tr>\n",
       "\n",
       "\n",
       "<tr class=\"repr-element filters-58e443de-4de6-4110-bc15-87f245f84536 \">\n",
       "    <td class=\"repr-section-toggle-col\"></td>\n",
       "    <td>Projections</td>\n",
       "    <td>\n",
       "        \n",
       "        PCA-v1 (off)\n",
       "        <br />\n",
       "        \n",
       "        PCA-v2 (off)\n",
       "        <br />\n",
       "        \n",
       "        PCA-v3 (off)\n",
       "        \n",
       "        \n",
       "    </td>\n",
       "</tr>\n",
       "\n",
       "</table>"
      ],
      "text/plain": [
       "<Info | 21 non-empty values\n",
       " acq_pars: ACQch001 110113 ACQch002 110112 ACQch003 110111 ACQch004 110122 ...\n",
       " bads: 2 items (MEG 2443, EEG 053)\n",
       " ch_names: MEG 0113, MEG 0112, MEG 0111, MEG 0122, MEG 0123, MEG 0121, MEG ...\n",
       " chs: 204 Gradiometers, 102 Magnetometers, 9 Stimulus, 60 EEG, 1 EOG\n",
       " custom_ref_applied: False\n",
       " description: acquisition (megacq) VectorView system at NMR-MGH\n",
       " dev_head_t: MEG device -> head transform\n",
       " dig: 146 items (3 Cardinal, 4 HPI, 61 EEG, 78 Extra)\n",
       " events: 1 item (list)\n",
       " experimenter: MEG\n",
       " file_id: 4 items (dict)\n",
       " highpass: 0.1 Hz\n",
       " hpi_meas: 1 item (list)\n",
       " hpi_results: 1 item (list)\n",
       " lowpass: 172.2 Hz\n",
       " meas_date: 2002-12-03 19:01:10 UTC\n",
       " meas_id: 4 items (dict)\n",
       " nchan: 376\n",
       " proj_id: 1 item (ndarray)\n",
       " proj_name: test\n",
       " projs: PCA-v1: off, PCA-v2: off, PCA-v3: off\n",
       " sfreq: 600.6 Hz\n",
       ">"
      ]
     },
     "execution_count": 36,
     "metadata": {},
     "output_type": "execute_result"
    }
   ],
   "source": [
    "# View dataset info\n",
    "raw.info;"
   ]
  },
  {
   "cell_type": "code",
   "execution_count": 37,
   "id": "e6af4663",
   "metadata": {
    "id": "e6af4663",
    "outputId": "6f7009d1-218d-4b55-9a0e-127e21ec3d83"
   },
   "outputs": [],
   "source": [
    "# Select only EEG and EOG channels as well as the stimulus channel\n",
    "raw_eeg = raw.copy().pick_types(meg = False, eeg = True, eog = True, stim = True)"
   ]
  },
  {
   "cell_type": "markdown",
   "id": "e47ae760",
   "metadata": {
    "id": "e47ae760"
   },
   "source": [
    "## Raw signal\n",
    "We can now plot and look at the raw signal. We can already identify some artifacts in there - we will deal with them at the next step."
   ]
  },
  {
   "cell_type": "code",
   "execution_count": 38,
   "id": "ae3c3c4d",
   "metadata": {
    "id": "ae3c3c4d",
    "outputId": "edafafd4-009c-4896-8730-8e22af03f6d0",
    "scrolled": true
   },
   "outputs": [],
   "source": [
    "# let's plot the data (if you didn't enable the qt backend you can't scroll through the data interactively)\n",
    "raw_eeg.plot(duration=5, n_channels=10);"
   ]
  },
  {
   "cell_type": "markdown",
   "id": "3ff39844",
   "metadata": {
    "id": "3ff39844"
   },
   "source": [
    "Let's check the actual data structure"
   ]
  },
  {
   "cell_type": "code",
   "execution_count": 39,
   "id": "493b3ab2",
   "metadata": {
    "id": "493b3ab2",
    "outputId": "3cde1264-4c07-4940-b9af-b2f4b68cb1d5"
   },
   "outputs": [
    {
     "data": {
      "text/plain": [
       "(69, 166800)"
      ]
     },
     "execution_count": 39,
     "metadata": {},
     "output_type": "execute_result"
    }
   ],
   "source": [
    "raw_eeg._data.shape"
   ]
  },
  {
   "cell_type": "markdown",
   "id": "7db3a85c",
   "metadata": {},
   "source": [
    "<div class=\"alert alert-block alert-warning\">\n",
    "<b>Discussion:</b> What are the dimensions representing? \n",
    "\n",
    "the first dimension is the number of channels, \n",
    "\n",
    "the second dimension the time samples\n",
    "</div>"
   ]
  },
  {
   "cell_type": "code",
   "execution_count": 40,
   "id": "c2f35b91",
   "metadata": {},
   "outputs": [
    {
     "data": {
      "text/plain": [
       "600.614990234375"
      ]
     },
     "execution_count": 40,
     "metadata": {},
     "output_type": "execute_result"
    }
   ],
   "source": [
    "# Let's extract the sampling frequency\n",
    "raw_eeg.info['sfreq']"
   ]
  },
  {
   "cell_type": "markdown",
   "id": "1118f43b",
   "metadata": {},
   "source": [
    "<div class=\"alert alert-block alert-success\">\n",
    "<b>Exercise:</b> Calculate the duration of the EEG recording in minutes and seconds.\n",
    "</div>"
   ]
  },
  {
   "cell_type": "code",
   "execution_count": 41,
   "id": "819d1771",
   "metadata": {},
   "outputs": [
    {
     "name": "stdout",
     "output_type": "stream",
     "text": [
      "Duration of EEG recording =  277.7153462901591 s, or 4.63 min.\n"
     ]
    }
   ],
   "source": [
    "scan_durn = raw_eeg._data.shape[1] / raw_eeg.info['sfreq']\n",
    "print('Duration of EEG recording = ', scan_durn, 's, or', round(scan_durn / 60, 2), 'min.')"
   ]
  },
  {
   "cell_type": "code",
   "execution_count": 42,
   "id": "22c4caa8",
   "metadata": {
    "scrolled": true
   },
   "outputs": [
    {
     "data": {
      "text/plain": [
       "['STI 001',\n",
       " 'STI 002',\n",
       " 'STI 003',\n",
       " 'STI 004',\n",
       " 'STI 005',\n",
       " 'STI 006',\n",
       " 'STI 014',\n",
       " 'STI 015',\n",
       " 'STI 016',\n",
       " 'EEG 001',\n",
       " 'EEG 002',\n",
       " 'EEG 003',\n",
       " 'EEG 004',\n",
       " 'EEG 005',\n",
       " 'EEG 006',\n",
       " 'EEG 007',\n",
       " 'EEG 008',\n",
       " 'EEG 009',\n",
       " 'EEG 010',\n",
       " 'EEG 011',\n",
       " 'EEG 012',\n",
       " 'EEG 013',\n",
       " 'EEG 014',\n",
       " 'EEG 015',\n",
       " 'EEG 016',\n",
       " 'EEG 017',\n",
       " 'EEG 018',\n",
       " 'EEG 019',\n",
       " 'EEG 020',\n",
       " 'EEG 021',\n",
       " 'EEG 022',\n",
       " 'EEG 023',\n",
       " 'EEG 024',\n",
       " 'EEG 025',\n",
       " 'EEG 026',\n",
       " 'EEG 027',\n",
       " 'EEG 028',\n",
       " 'EEG 029',\n",
       " 'EEG 030',\n",
       " 'EEG 031',\n",
       " 'EEG 032',\n",
       " 'EEG 033',\n",
       " 'EEG 034',\n",
       " 'EEG 035',\n",
       " 'EEG 036',\n",
       " 'EEG 037',\n",
       " 'EEG 038',\n",
       " 'EEG 039',\n",
       " 'EEG 040',\n",
       " 'EEG 041',\n",
       " 'EEG 042',\n",
       " 'EEG 043',\n",
       " 'EEG 044',\n",
       " 'EEG 045',\n",
       " 'EEG 046',\n",
       " 'EEG 047',\n",
       " 'EEG 048',\n",
       " 'EEG 049',\n",
       " 'EEG 050',\n",
       " 'EEG 051',\n",
       " 'EEG 052',\n",
       " 'EEG 054',\n",
       " 'EEG 055',\n",
       " 'EEG 056',\n",
       " 'EEG 057',\n",
       " 'EEG 058',\n",
       " 'EEG 059',\n",
       " 'EEG 060',\n",
       " 'EOG 061']"
      ]
     },
     "execution_count": 42,
     "metadata": {},
     "output_type": "execute_result"
    }
   ],
   "source": [
    "# Let's extract the channel names\n",
    "raw_eeg.info['ch_names'];"
   ]
  },
  {
   "cell_type": "code",
   "execution_count": 56,
   "id": "591660e6-18e2-4012-8db5-638159e97581",
   "metadata": {},
   "outputs": [],
   "source": [
    "# plot the montage and make sure it looks correct\n",
    "raw_eeg.plot_sensors(show_names=True);"
   ]
  },
  {
   "cell_type": "markdown",
   "id": "80ab655d",
   "metadata": {},
   "source": [
    "<div class=\"alert alert-block alert-success\">\n",
    "<b>Exercise:</b>  Plot the data of a visual channel of your choice for 1 second\n",
    "</div>"
   ]
  },
  {
   "cell_type": "code",
   "execution_count": 47,
   "id": "f083729e",
   "metadata": {},
   "outputs": [
    {
     "name": "stdout",
     "output_type": "stream",
     "text": [
      "(1, 601)\n"
     ]
    }
   ],
   "source": [
    "# I prefere to use the seaborn package for plotting, so let's import it\n",
    "import seaborn as sns\n",
    "\n",
    "data_eeg = raw_eeg.get_data(picks='EEG 057', tmin=3, tmax=4)\n",
    "print(data_eeg.shape)\n",
    "# we need to transpose the data to get the right shape for seaborn (samples should be the first dimension)\n",
    "sns.lineplot(data_eeg.T);"
   ]
  },
  {
   "cell_type": "markdown",
   "id": "09feea58",
   "metadata": {},
   "source": [
    "<div class=\"alert alert-block alert-info\">\n",
    "<b>Bonus:</b> Can you improve this plot?\n",
    "</div>\n"
   ]
  },
  {
   "cell_type": "code",
   "execution_count": 49,
   "id": "768c45a3",
   "metadata": {},
   "outputs": [],
   "source": [
    "# it's up to you how you want to plot the data, here is an example using matplotlib\n",
    "import matplotlib.pyplot as plt\n",
    "\n",
    "plt.plot(np.linspace(3,4,len(data_eeg.T)), data_eeg.T)\n",
    "plt.xlabel('Time (s)')\n",
    "plt.ylabel('Amplitude (mV)')\n",
    "plt.title('EEG signal in channel EEG 057')\n",
    "plt.show()"
   ]
  },
  {
   "cell_type": "code",
   "execution_count": 54,
   "id": "d270de42",
   "metadata": {},
   "outputs": [],
   "source": [
    "# You can also plot one single channel using MNE's plotting functions\n",
    "raw_eeg.plot(picks='EEG 057', duration=1, start=3);"
   ]
  },
  {
   "cell_type": "markdown",
   "id": "9ad88142",
   "metadata": {
    "id": "9ad88142"
   },
   "source": [
    "Let's look closer at the channels"
   ]
  },
  {
   "cell_type": "code",
   "execution_count": 57,
   "id": "a41c13dd",
   "metadata": {},
   "outputs": [
    {
     "name": "stdout",
     "output_type": "stream",
     "text": [
      "<Raw | sample_audvis_raw.fif, 69 x 166800 (277.7 s), ~90.8 MB, data loaded>\n",
      "ch  name     type  unit        min         Q1     median         Q3        max\n",
      " 0  STI 001  STIM  V          0.00       0.00       0.00       0.00       5.00\n",
      " 1  STI 002  STIM  V          0.00       0.00       0.00       0.00       5.00\n",
      " 2  STI 003  STIM  V          0.00       0.00       0.00       0.00       5.00\n",
      " 3  STI 004  STIM  V          0.00       0.00       0.00       0.00       0.00\n",
      " 4  STI 005  STIM  V          0.00       0.00       0.00       0.00       0.00\n",
      " 5  STI 006  STIM  V          0.00       0.00       0.00       0.00       5.00\n",
      " 6  STI 014  STIM  V          0.00       0.00       0.00       0.00      32.00\n",
      " 7  STI 015  STIM  V          0.00       0.00       0.00       0.00       0.00\n",
      " 8  STI 016  STIM  V          0.00       0.00       0.00       0.00       0.00\n",
      " 9  EEG 001  EEG   µV      -298.79      -3.10       8.18      20.20     299.84\n",
      "10  EEG 002  EEG   µV      -250.20      38.42      48.17      59.45     333.33\n",
      "11  EEG 003  EEG   µV      -247.73      38.31      47.84      59.13     337.02\n",
      "12  EEG 004  EEG   µV       -43.36     178.65     191.87     205.38     426.52\n",
      "13  EEG 005  EEG   µV      -173.61      59.90      70.11      81.40     298.02\n",
      "14  EEG 006  EEG   µV      -225.38      14.92      25.26      36.62     272.64\n",
      "15  EEG 007  EEG   µV      -225.86      21.57      33.27      46.02     315.03\n",
      "16  EEG 008  EEG   µV      -132.28      56.40      68.11      79.94     367.81\n",
      "17  EEG 009  EEG   µV      -267.98      -4.79       4.79      15.49     186.60\n",
      "18  EEG 010  EEG   µV      -155.25      35.11      48.52      62.81     223.65\n",
      "19  EEG 011  EEG   µV      -167.23      28.58      38.30      48.98     222.72\n",
      "20  EEG 012  EEG   µV      -140.82      54.24      63.80      74.19     256.27\n",
      "21  EEG 013  EEG   µV      -179.78      13.57      23.09      33.28     217.18\n",
      "22  EEG 014  EEG   µV      -143.81      47.21      56.89      67.44     243.76\n",
      "23  EEG 015  EEG   µV      -123.61      60.63      72.80      85.44     301.48\n",
      "24  EEG 016  EEG   µV      -109.23      74.10      82.45      91.27     273.63\n",
      "25  EEG 017  EEG   µV       -86.08      55.60      62.39      69.89     183.75\n",
      "26  EEG 018  EEG   µV      -104.41      62.96      72.73      82.51     223.48\n",
      "27  EEG 019  EEG   µV       -89.10      88.04      97.05     106.51     245.93\n",
      "28  EEG 020  EEG   µV      -110.75      65.20      74.22      83.87     230.10\n",
      "29  EEG 021  EEG   µV      -106.09      63.41      72.70      82.79     236.39\n",
      "30  EEG 022  EEG   µV      -120.27      32.55      40.87      50.06     203.25\n",
      "31  EEG 023  EEG   µV       -94.37      45.19      54.76      64.55     210.53\n",
      "32  EEG 024  EEG   µV       -41.12      85.10      92.48     100.43     227.96\n",
      "33  EEG 025  EEG   µV       -73.50      48.54      58.05      68.87     171.24\n",
      "34  EEG 026  EEG   µV      -109.50      36.42      44.93      53.92     169.54\n",
      "35  EEG 027  EEG   µV       -93.16      65.06      73.07      81.71     207.14\n",
      "36  EEG 028  EEG   µV      -114.01      50.65      59.68      69.21     200.00\n",
      "37  EEG 029  EEG   µV      -105.70      64.11      73.92      84.19     218.60\n",
      "38  EEG 030  EEG   µV      -109.13      51.58      61.24      71.26     209.01\n",
      "39  EEG 031  EEG   µV       -93.84      67.57      77.43      88.03     229.50\n",
      "40  EEG 032  EEG   µV      -130.62      25.18      34.04      43.68     183.83\n",
      "41  EEG 033  EEG   µV      -102.16      43.03      50.99      59.67     192.87\n",
      "42  EEG 034  EEG   µV       -98.27      39.89      48.81      58.26     187.62\n",
      "43  EEG 035  EEG   µV      -301.00      65.67      72.65      80.57     284.80\n",
      "44  EEG 036  EEG   µV       -92.00      24.56      33.27      42.52     420.32\n",
      "45  EEG 037  EEG   µV       -76.63      68.50      77.82      87.73     253.63\n",
      "46  EEG 038  EEG   µV      -116.48      48.63      58.46      68.69     197.17\n",
      "47  EEG 039  EEG   µV      -103.84      52.24      62.20      73.09     201.61\n",
      "48  EEG 040  EEG   µV      -110.86      46.21      56.01      66.53     197.75\n",
      "49  EEG 041  EEG   µV      -106.17      42.33      51.93      62.53     192.59\n",
      "50  EEG 042  EEG   µV       -75.13      64.49      72.27      80.62     201.19\n",
      "51  EEG 043  EEG   µV       -68.29      66.10      73.60      81.79     202.62\n",
      "52  EEG 044  EEG   µV      -107.43      34.28      43.35      53.13     215.98\n",
      "53  EEG 045  EEG   µV      -137.61      15.38      24.36      33.95     141.83\n",
      "54  EEG 046  EEG   µV       -83.94      65.36      76.84      88.49     199.73\n",
      "55  EEG 047  EEG   µV      -130.20      24.09      33.92      44.19     163.22\n",
      "56  EEG 048  EEG   µV       -90.64      67.52      78.79      89.77     206.51\n",
      "57  EEG 049  EEG   µV      -115.03      36.85      46.61      56.61     174.79\n",
      "58  EEG 050  EEG   µV       -73.88      69.83      79.49      89.86     206.80\n",
      "59  EEG 051  EEG   µV       -92.70      52.05      61.24      71.31     187.78\n",
      "60  EEG 052  EEG   µV      -107.52      31.30      39.40      47.93     157.42\n",
      "61  EEG 054  EEG   µV      -102.43      41.47      50.66      60.67     169.67\n",
      "62  EEG 055  EEG   µV       -91.40      54.59      63.93      73.68     189.77\n",
      "63  EEG 056  EEG   µV      -111.93      26.18      34.77      43.89     153.91\n",
      "64  EEG 057  EEG   µV       -91.45      48.40      57.46      67.54     176.99\n",
      "65  EEG 058  EEG   µV       -67.91      70.88      79.72      89.48     197.68\n",
      "66  EEG 059  EEG   µV       -98.45      38.92      48.40      58.43     171.33\n",
      "67  EEG 060  EEG   µV       -52.27      64.85      73.21      82.33     183.02\n",
      "68  EOG 061  EOG   µV      -231.41     266.70     277.82     289.58     745.86\n"
     ]
    }
   ],
   "source": [
    "# useful method to get an overall summary of the data\n",
    "raw_eeg.describe()"
   ]
  },
  {
   "cell_type": "markdown",
   "id": "9dabe87d",
   "metadata": {},
   "source": [
    "# Preprocessing"
   ]
  },
  {
   "cell_type": "markdown",
   "id": "399667de",
   "metadata": {},
   "source": [
    "Preprocessing (cleaning, removing artifacts) is essential and not p-hacking.\n",
    "\n",
    "Remember: Garbage inn, garbage out\n",
    "\n",
    "Physiological noise: eye movements, heart-beat related artifacts, respiration, \\\n",
    "                     muscle contractions, head movements,\n",
    "                     drifts (due to excessive sweating)\n",
    "\n",
    "Non-phyhsiological noise: line noise, power noise\n",
    "\n",
    "Highly recommended reading: Reproducible EEG Research by [Pernet and colleagues (2020)](https://www.nature.com/articles/s41593-020-00709-0)"
   ]
  },
  {
   "cell_type": "markdown",
   "id": "8afdd62b",
   "metadata": {
    "id": "8afdd62b"
   },
   "source": [
    "### Filtering\n",
    "Filtering is an important step in EEG analysis - the sensors pick up anything from very slow (<1 Hz) to extremely fast (>200 Hz) oscillations. Not all of these are likely to be related to brain activity. Typically, the data is filtered between 1 and 20-50 Hz to get a relevant range."
   ]
  },
  {
   "cell_type": "markdown",
   "id": "2364ed86",
   "metadata": {},
   "source": [
    "<div class=\"alert alert-block alert-warning\">\n",
    "<b>Discussion:</b>\n",
    "\n",
    "What is an oscillation? <br /> \n",
    "\n",
    "definition based on physics (Cambridge dictionary):\n",
    "a regular change in strength or direction in a wave or electric current <br />\n",
    "\n",
    "\n",
    "What is a low-pass or high-pass filter and what is a bandpass filter? <br /> low-pass: allow oscillations lower than a certain frequency to pass <br /> high-pass: allow oscillations higher than a certain frequency to pass <br />\n",
    "band-pass: allow oscillations between specified frequencies to pass\n",
    "\n",
    "What is Aliasing? <br /> \n",
    "overlapping of frequency components resulting from a sample rate below the Nyquist rate <br />\n",
    "can create distortions in the signal\n",
    "\n",
    "</div>"
   ]
  },
  {
   "cell_type": "markdown",
   "id": "6435bb92",
   "metadata": {},
   "source": [
    "<div class=\"alert alert-block alert-success\">\n",
    "<b>Exercise:</b>  \n",
    "\n",
    "Determine the Nquist frequency of the data: <br />  half of the sampling rate: 300 Hz, better 1/3rd: 150 Hz\n",
    "\n",
    "Was the data online filtered and if so with what frequency: <br /> \n",
    "yes, online filter (while recording data) at 172 Hz (anti-aliasing filter) and high-pass filter at 0.1 Hz\n",
    "</div>"
   ]
  },
  {
   "cell_type": "code",
   "execution_count": 58,
   "id": "8f71db48",
   "metadata": {
    "id": "8f71db48",
    "outputId": "7e943eac-6d09-43dd-c534-027295aa6e31"
   },
   "outputs": [],
   "source": [
    "# Let's plot the power spectral density\n",
    "raw_eeg.compute_psd().plot();"
   ]
  },
  {
   "cell_type": "markdown",
   "id": "6f5031dc",
   "metadata": {},
   "source": [
    "<div class=\"alert alert-block alert-warning\">\n",
    "<b>Discussion:</b>\n",
    "\n",
    "What is a PSD?\n",
    "\n",
    "Power Spectral Density: describes how much power at which frequency\n",
    "\n",
    "What is 1/f?\n",
    "\n",
    "Pink Noise: amplitude decrease with increasing frequency (power law)\n",
    "\n",
    "</div>"
   ]
  },
  {
   "cell_type": "code",
   "execution_count": 59,
   "id": "7d634b33",
   "metadata": {},
   "outputs": [],
   "source": [
    "# finally let's filter the data (band-pass filter)\n",
    "raw_eeg_01Hz = raw_eeg.copy().filter(0.1,30)\n",
    "\n",
    "raw_eeg_01Hz.compute_psd(fmax=40).plot();"
   ]
  },
  {
   "cell_type": "markdown",
   "id": "6c3f98f1",
   "metadata": {},
   "source": [
    "precision in the frequency domain is inversely related to precision in the time domain or in other words <br />  =>\n",
    "sharper frequency cutoff, larger artifacts in the time domain"
   ]
  },
  {
   "cell_type": "markdown",
   "id": "5bb678ae",
   "metadata": {},
   "source": [
    "For a discussion on [filter options](https://mne.tools/stable/auto_tutorials/preprocessing/25_background_filtering.html)"
   ]
  },
  {
   "cell_type": "code",
   "execution_count": 61,
   "id": "2b3dfcaa",
   "metadata": {},
   "outputs": [],
   "source": [
    "# what other artifacts do we see?\n",
    "raw_eeg_01Hz.plot();"
   ]
  },
  {
   "cell_type": "markdown",
   "id": "617cde53",
   "metadata": {
    "id": "617cde53"
   },
   "source": [
    "### Independent component analysis (ICA)\n",
    "\n",
    "ICA is one of the most common methods used to remove artifacts in the data (such as blinks, heartbeats and so on). \n",
    "\n",
    "Briefly, your EEG signal is a mixture of many signals and ICA helps \"unmix\" or separate them.\n",
    "\n",
    "We will fit the ICA algorithm, plot the components and then remove those that look like artifacts. \n",
    "\n",
    "The details are beyond the scope of the class, but more information can be found on the [MNE homepage](\n",
    "https://mne.tools/stable/auto_tutorials/preprocessing/40_artifact_correction_ica.html)"
   ]
  },
  {
   "cell_type": "code",
   "execution_count": 62,
   "id": "ac7900a0",
   "metadata": {},
   "outputs": [],
   "source": [
    "# we filter the data with with a 1Hz high-pass filter\n",
    "# Notes: this is the reason we created a copy of the raw data before filtering\n",
    "raw_eeg_1Hz = raw_eeg.copy().filter(1, 30);"
   ]
  },
  {
   "cell_type": "markdown",
   "id": "37424597",
   "metadata": {},
   "source": [
    "<div class=\"alert alert-block alert-warning\">\n",
    "<b>Discussion:</b>\n",
    "\n",
    "Why do we filter the data with a 1Hz high-pass filter for ICA?\n",
    "\n",
    "low frequency noise has a high amplitude and would dominate the ICA components (remember the power law)\n",
    "\n",
    "</div>"
   ]
  },
  {
   "cell_type": "code",
   "execution_count": 63,
   "id": "88dc651f",
   "metadata": {},
   "outputs": [],
   "source": [
    "# let's plot the PSD of the data\n",
    "raw_eeg_1Hz.plot_psd(fmax=40);\n",
    "\n",
    "# do you see the waterfall shape around the filter onset? This is a filter artefact"
   ]
  },
  {
   "cell_type": "code",
   "execution_count": 64,
   "id": "dee284c2",
   "metadata": {},
   "outputs": [],
   "source": [
    "# let's break the data into smaller chunks (epochs)\n",
    "tstep = 3.0 # 60 seconds\n",
    "events_ica = mne.make_fixed_length_events(raw_eeg_1Hz, duration=tstep)\n",
    "epochs_ica = mne.Epochs(raw_eeg_1Hz, events_ica,\n",
    "                        tmin=0.0, tmax=tstep,\n",
    "                        baseline=None,\n",
    "                        preload=True)\n",
    "# this is not necessary but it's a good practice to have the data in epochs before running ICA, especially for \n",
    "# event related designs\n",
    "\n",
    "# Try it out on the continuous data"
   ]
  },
  {
   "cell_type": "markdown",
   "id": "4049e29d",
   "metadata": {},
   "source": [
    "<div class=\"alert alert-block alert-warning\">\n",
    "<b>Discussion:</b>\n",
    "\n",
    "ICA on continuous signal or epochs? \n",
    "\n",
    "usually, it's a good practice to have the data in epochs before running ICA, especially for \n",
    "event-related designs as you don't want to include data you are not interested in (breaks etc.)\n",
    "also, it is computationally more efficient\n",
    "\n",
    "What are Pros and cons?\n",
    "\n",
    "- epochs: faster, noise unrelated to the experiment is removed (e.g. coughing in breaks)\n",
    "- continuous: slower, no artificial breaks in the data\n",
    "\n",
    "</div>"
   ]
  },
  {
   "cell_type": "code",
   "execution_count": 65,
   "id": "92c43e40",
   "metadata": {},
   "outputs": [],
   "source": [
    "# we can plot epochs the same way we can plot continuous data\n",
    "epochs_ica.plot(n_channels=10, n_epochs=1);"
   ]
  },
  {
   "cell_type": "markdown",
   "id": "10b4a4d6",
   "metadata": {},
   "source": [
    "Excurse and not always necessary: [Autoreject package](https://autoreject.github.io/stable/explanation.html) to automatically detect and clean bad epochs"
   ]
  },
  {
   "cell_type": "code",
   "execution_count": 69,
   "id": "ec6f2fc0-b7d0-4c65-ae7c-eba4f78e8c35",
   "metadata": {},
   "outputs": [
    {
     "name": "stderr",
     "output_type": "stream",
     "text": [
      "C:\\Users\\Carina\\miniforge3\\envs\\mne\\Lib\\site-packages\\autoreject\\utils.py:73: UserWarning: 3 channels are marked as bad. These will be ignored. If you want them to be considered by autoreject please remove them from epochs.info[\"bads\"].\n",
      "  warnings.warn(\n"
     ]
    },
    {
     "name": "stdout",
     "output_type": "stream",
     "text": [
      "Running autoreject on ch_type=eeg\n",
      "\n",
      "\n",
      "\n",
      "\n",
      "Estimated consensus=0.70 and n_interpolate=32\n"
     ]
    }
   ],
   "source": [
    "# Excurs: Use automated cleaning pipeline: AutoReject package\n",
    "from autoreject import AutoReject\n",
    "\n",
    "ar = AutoReject()\n",
    "\n",
    "ar.fit(epochs_ica)\n",
    "\n",
    "reject_log = ar.get_reject_log(epochs_ica)\n",
    "\n",
    "import matplotlib.pyplot as plt\n",
    "\n",
    "fig, ax = plt.subplots(figsize=[15, 5])\n",
    "reject_log.plot('horizontal', ax=ax, aspect='auto')\n",
    "plt.show()"
   ]
  },
  {
   "cell_type": "code",
   "execution_count": 70,
   "id": "2d84563c",
   "metadata": {
    "id": "2d84563c",
    "outputId": "a5bef6fc-f338-4389-a756-cb0b44e7c4ec"
   },
   "outputs": [
    {
     "data": {
      "text/html": [
       "<table class=\"table table-hover table-striped table-sm table-responsive small\">\n",
       "    <tr>\n",
       "        <th>Method</th>\n",
       "        <td>fastica</td>\n",
       "    </tr>\n",
       "    <tr>\n",
       "        <th>Fit parameters</th>\n",
       "        <td>algorithm=parallel<br />fun=logcosh<br />fun_args=None<br />max_iter=1000<br /></td>\n",
       "    </tr>\n",
       "    <tr>\n",
       "        <th>Fit</th>\n",
       "        <td>53 iterations on epochs (47479 samples)</td>\n",
       "    </tr>\n",
       "    \n",
       "    <tr>\n",
       "        <th>ICA components</th>\n",
       "        <td>25</td>\n",
       "    </tr>\n",
       "    <tr>\n",
       "        <th>Available PCA components</th>\n",
       "        <td>56</td>\n",
       "    </tr>\n",
       "    <tr>\n",
       "        <th>Channel types</th>\n",
       "        <td>eeg</td>\n",
       "    </tr>\n",
       "    <tr>\n",
       "        <th>ICA components marked for exclusion</th>\n",
       "        <td>&mdash;</td>\n",
       "    </tr>\n",
       "    \n",
       "</table>"
      ],
      "text/plain": [
       "<ICA | epochs decomposition, method: fastica (fit in 53 iterations on 47479 samples), 25 ICA components (56 PCA components available), channel types: eeg, no sources marked for exclusion>"
      ]
     },
     "execution_count": 70,
     "metadata": {},
     "output_type": "execute_result"
    }
   ],
   "source": [
    "# set up and fit the ICA\n",
    "\n",
    "# ICA parameters\n",
    "random_state = 42   # ensures ICA is reproducible each time it's run, # Why 42?\n",
    "ica_n_components = .99     # Specify n_components as a decimal to set % explained variance, \n",
    "# or an integer to set the number of components\n",
    "\n",
    "# Fit ICA\n",
    "ica = mne.preprocessing.ICA(n_components=ica_n_components,\n",
    "                            random_state=random_state,\n",
    "                            )\n",
    "\n",
    "# we only fit the ICA to the good epochs\n",
    "ica.fit(epochs_ica[~reject_log.bad_epochs], decim=3) # what does the tilde symbol do?"
   ]
  },
  {
   "cell_type": "markdown",
   "id": "88e612a7",
   "metadata": {
    "id": "88e612a7"
   },
   "source": [
    "Here are the components identified "
   ]
  },
  {
   "cell_type": "code",
   "execution_count": 71,
   "id": "f05757ae",
   "metadata": {
    "id": "f05757ae",
    "outputId": "924c9a8b-b070-416b-9a92-4968891f94e5"
   },
   "outputs": [],
   "source": [
    "ica.plot_components(inst=epochs_ica);"
   ]
  },
  {
   "cell_type": "code",
   "execution_count": 72,
   "id": "1730b7a0",
   "metadata": {},
   "outputs": [],
   "source": [
    "ica.plot_sources(raw_eeg_1Hz);"
   ]
  },
  {
   "cell_type": "markdown",
   "id": "394fbe98",
   "metadata": {
    "id": "394fbe98"
   },
   "source": [
    "if you pass an instance (raw data or epoched data) you can view the ICA components interactively"
   ]
  },
  {
   "cell_type": "markdown",
   "id": "e0c70340",
   "metadata": {
    "id": "e0c70340"
   },
   "source": [
    "We can visualize the effects of excluding a particular component from the data."
   ]
  },
  {
   "cell_type": "code",
   "execution_count": 73,
   "id": "f1663b62",
   "metadata": {
    "id": "f1663b62",
    "outputId": "b2c4bf73-9d99-4e06-ceff-c10135d536e8"
   },
   "outputs": [],
   "source": [
    "ica.plot_overlay(raw_eeg_1Hz, exclude=[0], picks='eeg');"
   ]
  },
  {
   "cell_type": "markdown",
   "id": "a210f696",
   "metadata": {},
   "source": [
    "<div class=\"alert alert-block alert-warning\">\n",
    "<b>Discussion:</b>\n",
    "\n",
    "How do we determine which components to exclude? \n",
    "\n",
    "there are many different ways: manual, semi-automatic or fully automated\n",
    "\n",
    "</div>"
   ]
  },
  {
   "cell_type": "code",
   "execution_count": 79,
   "id": "0c4ae719-30b9-4568-adf2-812e7bc27622",
   "metadata": {},
   "outputs": [
    {
     "data": {
      "text/html": [
       "<script type=\"text/javascript\">\n",
       "    const toggleVisibility = (className) => {\n",
       "\n",
       "  const elements = document.querySelectorAll(`.${className}`)\n",
       "\n",
       "  elements.forEach(element => {\n",
       "    if (element.classList.contains('repr-section-header')) {\n",
       "      // Don't collapse the section header row.\n",
       "       return\n",
       "    }\n",
       "    if (element.classList.contains('repr-element-collapsed')) {\n",
       "      // Force a reflow to ensure the display change takes effect before removing the class\n",
       "      element.classList.remove('repr-element-collapsed')\n",
       "      element.offsetHeight // This forces the browser to recalculate layout\n",
       "      element.classList.remove('repr-element-faded')\n",
       "    } else {\n",
       "      // Start transition to hide the element\n",
       "      element.classList.add('repr-element-faded')\n",
       "      element.addEventListener('transitionend', handler = (e) => {\n",
       "        if (e.propertyName === 'opacity' && getComputedStyle(element).opacity === '0.2') {\n",
       "          element.classList.add('repr-element-collapsed')\n",
       "          element.removeEventListener('transitionend', handler)\n",
       "        }\n",
       "      });\n",
       "    }\n",
       "  });\n",
       "\n",
       "  // Take care of button (adjust caret)\n",
       "  const button = document.querySelectorAll(`.repr-section-header.${className} > th.repr-section-toggle-col > button`)[0]\n",
       "  button.classList.toggle('collapsed')\n",
       "\n",
       "  // Take care of the tooltip of the section header row\n",
       "  const sectionHeaderRow = document.querySelectorAll(`tr.repr-section-header.${className}`)[0]\n",
       "  sectionHeaderRow.classList.toggle('collapsed')\n",
       "  sectionHeaderRow.title = sectionHeaderRow.title === 'Hide section' ? 'Show section' : 'Hide section'\n",
       "}\n",
       "</script>\n",
       "\n",
       "<style type=\"text/css\">\n",
       "    table.repr.table.table-hover.table-striped.table-sm.table-responsive.small {\n",
       "  /* Don't make rows wider than they need to be. */\n",
       "  display: inline;\n",
       "}\n",
       "\n",
       "table > tbody > tr.repr-element > td {\n",
       "  /* Apply a tighter layout to the table cells. */\n",
       "  padding-top: 0.1rem;\n",
       "  padding-bottom: 0.1rem;\n",
       "  padding-right: 1rem;\n",
       "}\n",
       "\n",
       "table > tbody > tr > td.repr-section-toggle-col {\n",
       "  /* Remove background and border of the first cell in every row\n",
       "     (this row is only used for the collapse / uncollapse caret)\n",
       "\n",
       "     TODO: Need to find a good solution for VS Code that works in both\n",
       "           light and dark mode. */\n",
       "  border-color: transparent;\n",
       "  --bs-table-accent-bg: transparent;\n",
       "}\n",
       "\n",
       "tr.repr-section-header {\n",
       "  /* Remove stripes from section header rows */\n",
       "  background-color: transparent;\n",
       "  border-color: transparent;\n",
       "  --bs-table-striped-bg: transparent;\n",
       "  cursor: pointer;\n",
       "}\n",
       "\n",
       "tr.repr-section-header > th {\n",
       "  text-align: left !important;\n",
       "  vertical-align: middle;\n",
       "}\n",
       "\n",
       ".repr-element, tr.repr-element > td {\n",
       "  opacity: 1;\n",
       "  text-align: left !important;\n",
       "}\n",
       "\n",
       ".repr-element-faded {\n",
       "  transition: 0.3s ease;\n",
       "  opacity: 0.2;\n",
       "}\n",
       "\n",
       ".repr-element-collapsed {\n",
       "  display: none;\n",
       "}\n",
       "\n",
       "/* Collapse / uncollapse button and the caret it contains. */\n",
       ".repr-section-toggle-col button {\n",
       "  cursor: pointer;\n",
       "  width: 1rem;\n",
       "  background-color: transparent;\n",
       "  border-color: transparent;\n",
       "}\n",
       "\n",
       "span.collapse-uncollapse-caret {\n",
       "  width: 1rem;\n",
       "  height: 1rem;\n",
       "  display: block;\n",
       "  background-repeat: no-repeat;\n",
       "  background-position: left;\n",
       "  background-size: contain;\n",
       "}\n",
       "\n",
       "/* The collapse / uncollapse carets were copied from the free Font Awesome collection and adjusted. */\n",
       "\n",
       "/* Default to black carets for light mode */\n",
       ".repr-section-toggle-col > button.collapsed > span.collapse-uncollapse-caret {\n",
       "  background-image: url('data:image/svg+xml;charset=utf8,<svg xmlns=\"http://www.w3.org/2000/svg\" viewBox=\"0 0 256 512\"><!--!Font Awesome Free 6.5.2 by @fontawesome - https://fontawesome.com License - https://fontawesome.com/license/free Copyright 2024 Fonticons, Inc.--><path fill=\"black\" d=\"M246.6 278.6c12.5-12.5 12.5-32.8 0-45.3l-128-128c-9.2-9.2-22.9-11.9-34.9-6.9s-19.8 16.6-19.8 29.6l0 256c0 12.9 7.8 24.6 19.8 29.6s25.7 2.2 34.9-6.9l128-128z\"/></svg>');\n",
       "}\n",
       "\n",
       ".repr-section-toggle-col\n",
       "  > button:not(.collapsed)\n",
       "  > span.collapse-uncollapse-caret {\n",
       "  background-image: url('data:image/svg+xml;charset=utf8,<svg xmlns=\"http://www.w3.org/2000/svg\" viewBox=\"0 0 320 512\"><!--!Font Awesome Free 6.5.2 by @fontawesome - https://fontawesome.com License - https://fontawesome.com/license/free Copyright 2024 Fonticons, Inc.--><path fill=\"black\" d=\"M137.4 374.6c12.5 12.5 32.8 12.5 45.3 0l128-128c9.2-9.2 11.9-22.9 6.9-34.9s-16.6-19.8-29.6-19.8L32 192c-12.9 0-24.6 7.8-29.6 19.8s-2.2 25.7 6.9 34.9l128 128z\"/></svg>');\n",
       "}\n",
       "\n",
       "/* Use white carets for dark mode */\n",
       "@media (prefers-color-scheme: dark) {\n",
       "  .repr-section-toggle-col > button.collapsed > span.collapse-uncollapse-caret {\n",
       "    background-image: url('data:image/svg+xml;charset=utf8,<svg xmlns=\"http://www.w3.org/2000/svg\" viewBox=\"0 0 256 512\"><!--!Font Awesome Free 6.5.2 by @fontawesome - https://fontawesome.com License - https://fontawesome.com/license/free Copyright 2024 Fonticons, Inc.--><path fill=\"white\" d=\"M246.6 278.6c12.5-12.5 12.5-32.8 0-45.3l-128-128c-9.2-9.2-22.9-11.9-34.9-6.9s-19.8 16.6-19.8 29.6l0 256c0 12.9 7.8 24.6 19.8 29.6s25.7 2.2 34.9-6.9l128-128z\"/></svg>');\n",
       "  }\n",
       "\n",
       "  .repr-section-toggle-col\n",
       "    > button:not(.collapsed)\n",
       "    > span.collapse-uncollapse-caret {\n",
       "    background-image: url('data:image/svg+xml;charset=utf8,<svg xmlns=\"http://www.w3.org/2000/svg\" viewBox=\"0 0 320 512\"><!--!Font Awesome Free 6.5.2 by @fontawesome - https://fontawesome.com License - https://fontawesome.com/license/free Copyright 2024 Fonticons, Inc.--><path fill=\"white\" d=\"M137.4 374.6c12.5 12.5 32.8 12.5 45.3 0l128-128c9.2-9.2 11.9-22.9 6.9-34.9s-16.6-19.8-29.6-19.8L32 192c-12.9 0-24.6 7.8-29.6 19.8s-2.2 25.7 6.9 34.9l128 128z\"/></svg>');\n",
       "  }\n",
       "}\n",
       "\n",
       ".channel-names-btn {\n",
       "  padding: 0;\n",
       "  border: none;\n",
       "  background: none;\n",
       "  text-decoration: underline;\n",
       "  text-decoration-style: dashed;\n",
       "  cursor: pointer;\n",
       "  color: #0d6efd;\n",
       "}\n",
       "\n",
       ".channel-names-btn:hover {\n",
       "  color: #0a58ca;\n",
       "}\n",
       "</style>\n",
       "\n",
       "\n",
       "\n",
       "<table class=\"repr table table-hover table-striped table-sm table-responsive small\">\n",
       "    \n",
       "\n",
       "\n",
       "\n",
       "\n",
       "\n",
       "\n",
       "\n",
       "<tr class=\"repr-section-header general-85738cfd-2d61-41c9-8890-f8edd04c4666\"  title=\"Hide section\" \n",
       "    onclick=\"toggleVisibility('general-85738cfd-2d61-41c9-8890-f8edd04c4666')\">\n",
       "    <th class=\"repr-section-toggle-col\">\n",
       "        <button>\n",
       "            \n",
       "            <span class=\"collapse-uncollapse-caret\"></span>\n",
       "        </button>\n",
       "    </th>\n",
       "    <th colspan=\"2\">\n",
       "        <strong>General</strong>\n",
       "    </th>\n",
       "</tr>\n",
       "\n",
       "<tr class=\"repr-element general-85738cfd-2d61-41c9-8890-f8edd04c4666 \">\n",
       "    <td class=\"repr-section-toggle-col\"></td>\n",
       "    <td>Filename(s)</td>\n",
       "    <td>\n",
       "        \n",
       "        sample_audvis_raw.fif\n",
       "        \n",
       "        \n",
       "    </td>\n",
       "</tr>\n",
       "\n",
       "<tr class=\"repr-element general-85738cfd-2d61-41c9-8890-f8edd04c4666 \">\n",
       "    <td class=\"repr-section-toggle-col\"></td>\n",
       "    <td>MNE object type</td>\n",
       "    <td>Raw</td>\n",
       "</tr>\n",
       "<tr class=\"repr-element general-85738cfd-2d61-41c9-8890-f8edd04c4666 \">\n",
       "    <td class=\"repr-section-toggle-col\"></td>\n",
       "    <td>Measurement date</td>\n",
       "    \n",
       "    <td>2002-12-03 at 19:01:10 UTC</td>\n",
       "    \n",
       "</tr>\n",
       "<tr class=\"repr-element general-85738cfd-2d61-41c9-8890-f8edd04c4666 \">\n",
       "    <td class=\"repr-section-toggle-col\"></td>\n",
       "    <td>Participant</td>\n",
       "    \n",
       "    <td>Unknown</td>\n",
       "    \n",
       "</tr>\n",
       "<tr class=\"repr-element general-85738cfd-2d61-41c9-8890-f8edd04c4666 \">\n",
       "    <td class=\"repr-section-toggle-col\"></td>\n",
       "    <td>Experimenter</td>\n",
       "    \n",
       "    <td>MEG</td>\n",
       "    \n",
       "</tr>\n",
       "    \n",
       "\n",
       "\n",
       "\n",
       "\n",
       "\n",
       "\n",
       "\n",
       "<tr class=\"repr-section-header acquisition-b411b818-5654-464c-b7e2-c75790ca2f7c\" \n",
       "    title=\"Hide section\"  onclick=\"toggleVisibility('acquisition-b411b818-5654-464c-b7e2-c75790ca2f7c')\">\n",
       "    <th class=\"repr-section-toggle-col\">\n",
       "        <button>\n",
       "            \n",
       "            <span class=\"collapse-uncollapse-caret\"></span>\n",
       "        </button>\n",
       "    </th>\n",
       "    <th colspan=\"2\">\n",
       "        <strong>Acquisition</strong>\n",
       "    </th>\n",
       "</tr>\n",
       "\n",
       "<tr class=\"repr-element acquisition-b411b818-5654-464c-b7e2-c75790ca2f7c \">\n",
       "    <td class=\"repr-section-toggle-col\"></td>\n",
       "    <td>Duration</td>\n",
       "    <td>00:04:38 (HH:MM:SS)</td>\n",
       "</tr>\n",
       "\n",
       "\n",
       "\n",
       "\n",
       "\n",
       "\n",
       "\n",
       "\n",
       "<tr class=\"repr-element acquisition-b411b818-5654-464c-b7e2-c75790ca2f7c \">\n",
       "    <td class=\"repr-section-toggle-col\"></td>\n",
       "    <td>Sampling frequency</td>\n",
       "    <td>600.61 Hz</td>\n",
       "</tr>\n",
       "\n",
       "\n",
       "<tr class=\"repr-element acquisition-b411b818-5654-464c-b7e2-c75790ca2f7c \">\n",
       "    <td class=\"repr-section-toggle-col\"></td>\n",
       "    <td>Time points</td>\n",
       "    <td>166,800</td>\n",
       "</tr>\n",
       "\n",
       "\n",
       "    \n",
       "\n",
       "\n",
       "\n",
       "\n",
       "\n",
       "\n",
       "\n",
       "<tr class=\"repr-section-header channels-ecc129a4-76ac-45f3-9c37-6644fefe9d95\"  title=\"Hide section\" \n",
       "    onclick=\"toggleVisibility('channels-ecc129a4-76ac-45f3-9c37-6644fefe9d95')\">\n",
       "    <th class=\"repr-section-toggle-col\">\n",
       "        <button>\n",
       "            \n",
       "            <span class=\"collapse-uncollapse-caret\"></span>\n",
       "        </button>\n",
       "    </th>\n",
       "    <th colspan=\"2\">\n",
       "        <strong>Channels</strong>\n",
       "    </th>\n",
       "</tr>\n",
       "\n",
       "\n",
       "<tr class=\"repr-element channels-ecc129a4-76ac-45f3-9c37-6644fefe9d95 \">\n",
       "    <td class=\"repr-section-toggle-col\"></td>\n",
       "    <td>EEG</td>\n",
       "    <td>\n",
       "        <button class=\"channel-names-btn\" onclick=\"alert('Good EEG:\\n\\nEEG&nbsp;001, EEG&nbsp;002, EEG&nbsp;003, EEG&nbsp;004, EEG&nbsp;005, EEG&nbsp;006, EEG&nbsp;007, EEG&nbsp;008, EEG&nbsp;009, EEG&nbsp;011, EEG&nbsp;012, EEG&nbsp;013, EEG&nbsp;014, EEG&nbsp;015, EEG&nbsp;016, EEG&nbsp;017, EEG&nbsp;018, EEG&nbsp;019, EEG&nbsp;020, EEG&nbsp;021, EEG&nbsp;022, EEG&nbsp;023, EEG&nbsp;024, EEG&nbsp;025, EEG&nbsp;026, EEG&nbsp;027, EEG&nbsp;028, EEG&nbsp;030, EEG&nbsp;031, EEG&nbsp;032, EEG&nbsp;033, EEG&nbsp;035, EEG&nbsp;036, EEG&nbsp;037, EEG&nbsp;038, EEG&nbsp;039, EEG&nbsp;040, EEG&nbsp;041, EEG&nbsp;042, EEG&nbsp;043, EEG&nbsp;044, EEG&nbsp;045, EEG&nbsp;046, EEG&nbsp;047, EEG&nbsp;048, EEG&nbsp;049, EEG&nbsp;050, EEG&nbsp;051, EEG&nbsp;052, EEG&nbsp;054, EEG&nbsp;055, EEG&nbsp;056, EEG&nbsp;057, EEG&nbsp;058, EEG&nbsp;059, EEG&nbsp;060')\" title=\"(Click to open in popup)&#13;&#13;EEG&nbsp;001, EEG&nbsp;002, EEG&nbsp;003, EEG&nbsp;004, EEG&nbsp;005, EEG&nbsp;006, EEG&nbsp;007, EEG&nbsp;008, EEG&nbsp;009, EEG&nbsp;011, EEG&nbsp;012, EEG&nbsp;013, EEG&nbsp;014, EEG&nbsp;015, EEG&nbsp;016, EEG&nbsp;017, EEG&nbsp;018, EEG&nbsp;019, EEG&nbsp;020, EEG&nbsp;021, EEG&nbsp;022, EEG&nbsp;023, EEG&nbsp;024, EEG&nbsp;025, EEG&nbsp;026, EEG&nbsp;027, EEG&nbsp;028, EEG&nbsp;030, EEG&nbsp;031, EEG&nbsp;032, EEG&nbsp;033, EEG&nbsp;035, EEG&nbsp;036, EEG&nbsp;037, EEG&nbsp;038, EEG&nbsp;039, EEG&nbsp;040, EEG&nbsp;041, EEG&nbsp;042, EEG&nbsp;043, EEG&nbsp;044, EEG&nbsp;045, EEG&nbsp;046, EEG&nbsp;047, EEG&nbsp;048, EEG&nbsp;049, EEG&nbsp;050, EEG&nbsp;051, EEG&nbsp;052, EEG&nbsp;054, EEG&nbsp;055, EEG&nbsp;056, EEG&nbsp;057, EEG&nbsp;058, EEG&nbsp;059, EEG&nbsp;060\">\n",
       "            56\n",
       "        </button>\n",
       "\n",
       "        \n",
       "        \n",
       "        and <button class=\"channel-names-btn\" onclick=\"alert('Bad EEG:\\n\\nEEG&nbsp;010, EEG&nbsp;029, EEG&nbsp;034')\" title=\"(Click to open in popup)&#13;&#13;EEG&nbsp;010, EEG&nbsp;029, EEG&nbsp;034\">\n",
       "            3 bad\n",
       "        </button>\n",
       "        \n",
       "    </td>\n",
       "</tr>\n",
       "\n",
       "\n",
       "<tr class=\"repr-element channels-ecc129a4-76ac-45f3-9c37-6644fefe9d95 \">\n",
       "    <td class=\"repr-section-toggle-col\"></td>\n",
       "    <td>EOG</td>\n",
       "    <td>\n",
       "        <button class=\"channel-names-btn\" onclick=\"alert('Good EOG:\\n\\nEOG&nbsp;061')\" title=\"(Click to open in popup)&#13;&#13;EOG&nbsp;061\">\n",
       "            1\n",
       "        </button>\n",
       "\n",
       "        \n",
       "    </td>\n",
       "</tr>\n",
       "\n",
       "\n",
       "<tr class=\"repr-element channels-ecc129a4-76ac-45f3-9c37-6644fefe9d95 \">\n",
       "    <td class=\"repr-section-toggle-col\"></td>\n",
       "    <td>Stimulus</td>\n",
       "    <td>\n",
       "        <button class=\"channel-names-btn\" onclick=\"alert('Good Stimulus:\\n\\nSTI&nbsp;001, STI&nbsp;002, STI&nbsp;003, STI&nbsp;004, STI&nbsp;005, STI&nbsp;006, STI&nbsp;014, STI&nbsp;015, STI&nbsp;016')\" title=\"(Click to open in popup)&#13;&#13;STI&nbsp;001, STI&nbsp;002, STI&nbsp;003, STI&nbsp;004, STI&nbsp;005, STI&nbsp;006, STI&nbsp;014, STI&nbsp;015, STI&nbsp;016\">\n",
       "            9\n",
       "        </button>\n",
       "\n",
       "        \n",
       "    </td>\n",
       "</tr>\n",
       "\n",
       "\n",
       "<tr class=\"repr-element channels-ecc129a4-76ac-45f3-9c37-6644fefe9d95 \">\n",
       "    <td class=\"repr-section-toggle-col\"></td>\n",
       "    <td>Head & sensor digitization</td>\n",
       "    \n",
       "    <td>146 points</td>\n",
       "    \n",
       "</tr>\n",
       "    \n",
       "\n",
       "\n",
       "\n",
       "\n",
       "\n",
       "\n",
       "\n",
       "<tr class=\"repr-section-header filters-dcaf15af-aa4e-44de-a7b1-da360e19ea39\"  title=\"Hide section\" \n",
       "    onclick=\"toggleVisibility('filters-dcaf15af-aa4e-44de-a7b1-da360e19ea39')\">\n",
       "    <th class=\"repr-section-toggle-col\">\n",
       "        <button>\n",
       "            \n",
       "            <span class=\"collapse-uncollapse-caret\"></span>\n",
       "        </button>\n",
       "    </th>\n",
       "    <th colspan=\"2\">\n",
       "        <strong>Filters</strong>\n",
       "    </th>\n",
       "</tr>\n",
       "\n",
       "<tr class=\"repr-element filters-dcaf15af-aa4e-44de-a7b1-da360e19ea39 \">\n",
       "    <td class=\"repr-section-toggle-col\"></td>\n",
       "    <td>Highpass</td>\n",
       "    <td>0.10 Hz</td>\n",
       "</tr>\n",
       "\n",
       "\n",
       "<tr class=\"repr-element filters-dcaf15af-aa4e-44de-a7b1-da360e19ea39 \">\n",
       "    <td class=\"repr-section-toggle-col\"></td>\n",
       "    <td>Lowpass</td>\n",
       "    <td>172.18 Hz</td>\n",
       "</tr>\n",
       "\n",
       "\n",
       "</table>"
      ],
      "text/plain": [
       "<Raw | sample_audvis_raw.fif, 69 x 166800 (277.7 s), ~90.8 MB, data loaded>"
      ]
     },
     "execution_count": 79,
     "metadata": {},
     "output_type": "execute_result"
    }
   ],
   "source": [
    "# set channel types\n",
    "raw_eeg.set_channel_types({'EOG 061': 'eog'})"
   ]
  },
  {
   "cell_type": "markdown",
   "id": "cdeb0bfd",
   "metadata": {},
   "source": [
    "### One way: correlation-based approach"
   ]
  },
  {
   "cell_type": "code",
   "execution_count": 80,
   "id": "1dc8bb7e",
   "metadata": {},
   "outputs": [
    {
     "name": "stdout",
     "output_type": "stream",
     "text": [
      "Number of EOG components identified: 1\n",
      "Number of EMG components identified: 0\n"
     ]
    }
   ],
   "source": [
    "# correlate with EOG channel\n",
    "ica.exclude = []\n",
    "\n",
    "eog_indices, eog_scores = ica.find_bads_eog(epochs_ica,\n",
    "                                            #ch_name=['EOG 061'], # we defined the EOG channels as EOG types earlier\n",
    "                                            # so not necessary to specify them here\n",
    "                                            threshold='auto',\n",
    "                                            measure='zscore'\n",
    "                                            )\n",
    "\n",
    "print('Number of EOG components identified: ' + str(len(eog_indices)))\n",
    "\n",
    "emg_indices, emg_scores = ica.find_bads_muscle(epochs_ica)\n",
    "\n",
    "print('Number of EMG components identified: ' + str(len(emg_indices)))\n",
    "\n",
    "# assign the bad EOG components to the ICA.exclude attribute so they can be removed later\n",
    "ica.exclude = eog_indices + emg_indices"
   ]
  },
  {
   "cell_type": "code",
   "execution_count": null,
   "id": "7c077fb2-b3be-462b-9535-d373e8256d20",
   "metadata": {},
   "outputs": [],
   "source": [
    "# do the same for ecg \n",
    "#ecg_indices, ecg_scores = ica.find_bads_ecg(epochs_ica,\n",
    "                                            #ch_name=['ECG1', 'ECG2'],\n",
    "#                                            )\n",
    "#print('Number of ECG components identified: ' + str(len(ecg_indices)))\n",
    "\n",
    "#Bonus: Create epochs around Rpeaks, do you see a heart-beat related potential?\n",
    "# get epochs around Rpeaks\n",
    "#ecg_epochs = mne.preprocessing.create_ecg_epochs(raw_eeg_1Hz, tmin=-0.5, tmax=0.5)\n",
    "#ecg_evoked = ecg_epochs.average()\n",
    "#ecg_evoked.plot_joint();"
   ]
  },
  {
   "cell_type": "code",
   "execution_count": 81,
   "id": "7a02d48f",
   "metadata": {},
   "outputs": [],
   "source": [
    "# plot the correlation scores to see which components are most likely to be EOG\n",
    "ica.plot_scores(eog_scores);"
   ]
  },
  {
   "cell_type": "code",
   "execution_count": 82,
   "id": "4a486271",
   "metadata": {},
   "outputs": [
    {
     "name": "stdout",
     "output_type": "stream",
     "text": [
      "{'eeg': 0.9928368108601303}\n"
     ]
    }
   ],
   "source": [
    "# useful if you defined n_components as a decimal\n",
    "explained_var_ratio = ica.get_explained_variance_ratio(epochs_ica)\n",
    "print(explained_var_ratio)"
   ]
  },
  {
   "cell_type": "markdown",
   "id": "daea1ebc",
   "metadata": {},
   "source": [
    "### check out my [preprocessing script](https://github.com/CarinaFo/ExPeCoN_ms/tree/master/code/expecon_ms/eeg/preprocessing) or [IClabel](https://mne.tools/mne-icalabel/dev/index.html) for other options to automate the ICA labelling approach"
   ]
  },
  {
   "cell_type": "markdown",
   "id": "8b23ad82",
   "metadata": {
    "id": "8b23ad82"
   },
   "source": [
    "Nice! We got rid of low and high frequency noise and blinks!\n",
    "\n",
    "With your own data you might want to spend more time on preprocessing. \n",
    "### This is an important step! "
   ]
  },
  {
   "cell_type": "markdown",
   "id": "70581062",
   "metadata": {},
   "source": [
    "Let's save what we did so far"
   ]
  },
  {
   "cell_type": "code",
   "execution_count": 89,
   "id": "143f36f6",
   "metadata": {},
   "outputs": [],
   "source": [
    "# define save path\n",
    "save_dir = Path(\"C:/\", \"Users\", \"Carina\", \"Desktop\", \"MNE\", \"hamburg_2024\", \"data\")"
   ]
  },
  {
   "cell_type": "code",
   "execution_count": 92,
   "id": "2f902036",
   "metadata": {},
   "outputs": [],
   "source": [
    "# save the raw data before ICA\n",
    "raw_eeg_01Hz.save(Path(save_dir, 'sample_before_ica-raw.fif'), overwrite=True) "
   ]
  },
  {
   "cell_type": "code",
   "execution_count": 91,
   "id": "32d0b47e",
   "metadata": {},
   "outputs": [],
   "source": [
    "# finally apply the ica rejection to the 0.1Hz filtered data\n",
    "raw_eeg_clean = ica.apply(raw_eeg_01Hz)"
   ]
  },
  {
   "cell_type": "code",
   "execution_count": 93,
   "id": "827e2b15",
   "metadata": {},
   "outputs": [],
   "source": [
    "# save the clean data after ICA\n",
    "raw_eeg_clean.save(Path(save_dir, 'sample_after_prepro_and_ica-raw.fif'), overwrite=True)"
   ]
  },
  {
   "cell_type": "markdown",
   "id": "2657f41b",
   "metadata": {},
   "source": [
    "<div class=\"alert alert-block alert-success\">\n",
    "<b>Exercise:</b> save the ica solution disk.\n",
    "</div>"
   ]
  },
  {
   "cell_type": "code",
   "execution_count": 94,
   "id": "45b19796",
   "metadata": {},
   "outputs": [
    {
     "data": {
      "text/html": [
       "<table class=\"table table-hover table-striped table-sm table-responsive small\">\n",
       "    <tr>\n",
       "        <th>Method</th>\n",
       "        <td>fastica</td>\n",
       "    </tr>\n",
       "    <tr>\n",
       "        <th>Fit parameters</th>\n",
       "        <td>algorithm=parallel<br />fun=logcosh<br />fun_args=None<br />max_iter=1000<br /></td>\n",
       "    </tr>\n",
       "    <tr>\n",
       "        <th>Fit</th>\n",
       "        <td>53 iterations on epochs (47479 samples)</td>\n",
       "    </tr>\n",
       "    \n",
       "    <tr>\n",
       "        <th>ICA components</th>\n",
       "        <td>25</td>\n",
       "    </tr>\n",
       "    <tr>\n",
       "        <th>Available PCA components</th>\n",
       "        <td>56</td>\n",
       "    </tr>\n",
       "    <tr>\n",
       "        <th>Channel types</th>\n",
       "        <td>eeg</td>\n",
       "    </tr>\n",
       "    <tr>\n",
       "        <th>ICA components marked for exclusion</th>\n",
       "        <td>ICA000</td>\n",
       "    </tr>\n",
       "    \n",
       "</table>"
      ],
      "text/plain": [
       "<ICA | epochs decomposition, method: fastica (fit in 53 iterations on 47479 samples), 25 ICA components (56 PCA components available), channel types: eeg, 1 sources marked for exclusion>"
      ]
     },
     "execution_count": 94,
     "metadata": {},
     "output_type": "execute_result"
    }
   ],
   "source": [
    "ica.save(Path(save_dir, 'ica.fif'))"
   ]
  },
  {
   "cell_type": "markdown",
   "id": "f193f925",
   "metadata": {},
   "source": [
    "### Well Done, we cleaned the data and can now go on to the even more fun part!"
   ]
  }
 ],
 "metadata": {
  "colab": {
   "name": "EEG_analysis_with_mne.ipynb",
   "provenance": []
  },
  "hide_input": false,
  "kernelspec": {
   "display_name": "Python 3 (ipykernel)",
   "language": "python",
   "name": "python3"
  },
  "language_info": {
   "codemirror_mode": {
    "name": "ipython",
    "version": 3
   },
   "file_extension": ".py",
   "mimetype": "text/x-python",
   "name": "python",
   "nbconvert_exporter": "python",
   "pygments_lexer": "ipython3",
   "version": "3.12.7"
  }
 },
 "nbformat": 4,
 "nbformat_minor": 5
}
